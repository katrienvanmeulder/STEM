{
  "nbformat": 4,
  "nbformat_minor": 0,
  "metadata": {
    "kernelspec": {
      "display_name": "Python 3",
      "language": "python",
      "name": "python3"
    },
    "language_info": {
      "codemirror_mode": {
        "name": "ipython",
        "version": 2
      },
      "file_extension": ".py",
      "mimetype": "text/x-python",
      "name": "python",
      "nbconvert_exporter": "python",
      "pygments_lexer": "ipython2",
      "version": "2.7.6"
    },
    "colab": {
      "name": "20210527_Sporten.ipynb",
      "provenance": [],
      "include_colab_link": true
    }
  },
  "cells": [
    {
      "cell_type": "markdown",
      "metadata": {
        "id": "view-in-github",
        "colab_type": "text"
      },
      "source": [
        "<a href=\"https://colab.research.google.com/github/katrienvanmeulder/STEM6/blob/master/20210527_Sporten.ipynb\" target=\"_parent\"><img src=\"https://colab.research.google.com/assets/colab-badge.svg\" alt=\"Open In Colab\"/></a>"
      ]
    },
    {
      "cell_type": "markdown",
      "metadata": {
        "collapsed": false,
        "pycharm": {
          "name": "#%% md\n"
        },
        "id": "kh2QkPSn2-xX"
      },
      "source": [
        "# Sportstatistieken\n",
        "\n",
        "We oefenen op basis Pandas commando's met de sport dataset."
      ]
    },
    {
      "cell_type": "markdown",
      "metadata": {
        "collapsed": false,
        "pycharm": {
          "name": "#%% md\n"
        },
        "id": "0DWkhQc62-xg"
      },
      "source": [
        "Open de file 'sportdata.csv' en maak er een nieuwe dataframe van."
      ]
    },
    {
      "cell_type": "code",
      "metadata": {
        "id": "46WCD8WM2-xg"
      },
      "source": [
        "# hier komt jouw code"
      ],
      "execution_count": null,
      "outputs": []
    },
    {
      "cell_type": "markdown",
      "metadata": {
        "collapsed": false,
        "pycharm": {
          "name": "#%% md\n"
        },
        "id": "4DfiQA-Y2-xh"
      },
      "source": [
        "Toon alle data van rij 10 t.e.m. rij 20."
      ]
    },
    {
      "cell_type": "code",
      "metadata": {
        "id": "93YRUaYv2-xh"
      },
      "source": [
        "# hier komt jouw code"
      ],
      "execution_count": null,
      "outputs": []
    },
    {
      "cell_type": "markdown",
      "metadata": {
        "collapsed": false,
        "pycharm": {
          "name": "#%% md\n"
        },
        "id": "NHPpd9Vz2-xi"
      },
      "source": [
        "Alle data van de eerste 2 kolommen van rij 10 tm 20."
      ]
    },
    {
      "cell_type": "code",
      "metadata": {
        "id": "YuDKIkAL2-xi"
      },
      "source": [
        "# hier komt jouw code"
      ],
      "execution_count": null,
      "outputs": []
    },
    {
      "cell_type": "markdown",
      "metadata": {
        "collapsed": false,
        "pycharm": {
          "name": "#%% md\n"
        },
        "id": "DH7PItim2-xi"
      },
      "source": [
        "Selecteer alle instanties die meer 3 keer per week sporten"
      ]
    },
    {
      "cell_type": "code",
      "metadata": {
        "id": "J8q2Rj_M2-xj"
      },
      "source": [
        "# hier komt jouw code"
      ],
      "execution_count": null,
      "outputs": []
    },
    {
      "cell_type": "markdown",
      "metadata": {
        "collapsed": false,
        "pycharm": {
          "name": "#%% md\n"
        },
        "id": "lrB2pzcr2-xj"
      },
      "source": [
        "Hoeveel uur sporten deze personen gemiddelde per week?"
      ]
    },
    {
      "cell_type": "code",
      "metadata": {
        "id": "OudgS8ai2-xj"
      },
      "source": [
        "# hier komt jouw code"
      ],
      "execution_count": null,
      "outputs": []
    },
    {
      "cell_type": "markdown",
      "metadata": {
        "collapsed": false,
        "pycharm": {
          "name": "#%% md\n"
        },
        "id": "ULMcL3P02-xk"
      },
      "source": [
        "Wat is de gemiddelde leeftijd van de jongens die turnen?"
      ]
    },
    {
      "cell_type": "code",
      "metadata": {
        "id": "Yujfqeui2-xk"
      },
      "source": [
        "# hier komt jouw code"
      ],
      "execution_count": null,
      "outputs": []
    },
    {
      "cell_type": "markdown",
      "metadata": {
        "collapsed": false,
        "pycharm": {
          "name": "#%% md\n"
        },
        "id": "czTO6VBK2-xk"
      },
      "source": [
        "Wat is het maximaal aantal uur dat iemand judo beoefent?"
      ]
    },
    {
      "cell_type": "code",
      "metadata": {
        "id": "FSNwoTiV2-xk"
      },
      "source": [
        "# hier komt jouw code"
      ],
      "execution_count": null,
      "outputs": []
    }
  ]
}
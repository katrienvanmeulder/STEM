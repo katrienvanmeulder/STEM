{
  "nbformat": 4,
  "nbformat_minor": 0,
  "metadata": {
    "colab": {
      "name": "20200903_valbeweging.ipynb",
      "provenance": [],
      "collapsed_sections": [],
      "authorship_tag": "ABX9TyNMpz7EoZ8sJ8JFe7haTwQ2",
      "include_colab_link": true
    },
    "kernelspec": {
      "name": "python3",
      "display_name": "Python 3"
    }
  },
  "cells": [
    {
      "cell_type": "markdown",
      "metadata": {
        "id": "view-in-github",
        "colab_type": "text"
      },
      "source": [
        "<a href=\"https://colab.research.google.com/github/katrienvanmeulder/STEM/blob/master/20200903_valbeweging.ipynb\" target=\"_parent\"><img src=\"https://colab.research.google.com/assets/colab-badge.svg\" alt=\"Open In Colab\"/></a>"
      ]
    },
    {
      "cell_type": "markdown",
      "metadata": {
        "id": "5uIgq8tD_9NS",
        "colab_type": "text"
      },
      "source": [
        "# Valversnelling\n",
        "\n",
        "* Wet van behoud van energie: potentiële engergie = kinetische energie\n",
        "\n",
        " $$\n",
        "mgh = \\frac{m v^2 }{2}\n",
        "$$\n",
        "\n",
        "* Definitie van snelheid: \n",
        "$$ v = \\frac{dx}{dt} \\approx \\frac{\\Delta x}{\\Delta t} = \\frac{x(t+\\Delta t) - x(t)}{\\Delta t}$$\n",
        "$$ x(t+ \\Delta t) = x(t) + v.\\Delta t$$\n",
        "\n",
        "* Definitie van versnelling:\n",
        "\n",
        "$$\n",
        "a = \\frac{dv}{dt} \\approx \\frac{\\Delta v}{\\Delta t} = \\frac{v(t+\\Delta t) - v(t)}{\\Delta t}\n",
        "$$\n",
        "$$\n",
        "v(t + \\Delta t) = v(t) + a . \\Delta t\n",
        "$$"
      ]
    },
    {
      "cell_type": "code",
      "metadata": {
        "id": "MLVD7aOw7kee",
        "colab_type": "code",
        "colab": {}
      },
      "source": [
        "import numpy as np"
      ],
      "execution_count": 1,
      "outputs": []
    },
    {
      "cell_type": "code",
      "metadata": {
        "id": "wwNta91o6RBz",
        "colab_type": "code",
        "colab": {}
      },
      "source": [
        "#  valbeweging: \n",
        "#  snelheid van een voorwerp dat losgelaten wordt op hoogte h wanneer het de grond bereikt. \n",
        "\n",
        "h = 10   # begin hoogte in meter\n",
        "g = 9.81 # valversnelling (in m/s^2)\n",
        "\n",
        "dt = 0.001 \n",
        "v_th = np.sqrt(2*g*h)\n",
        "\n",
        "print('Theoretisch predictie:  v = ', v_th ,'m/s')\n",
        "\n"
      ],
      "execution_count": null,
      "outputs": []
    }
  ]
}
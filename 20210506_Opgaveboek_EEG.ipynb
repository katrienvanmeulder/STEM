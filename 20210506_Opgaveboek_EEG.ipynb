{
  "nbformat": 4,
  "nbformat_minor": 0,
  "metadata": {
    "colab": {
      "name": "Opgaveboek EEG.ipynb",
      "provenance": [],
      "include_colab_link": true
    },
    "kernelspec": {
      "display_name": "Python 3",
      "language": "python",
      "name": "python3"
    },
    "language_info": {
      "codemirror_mode": {
        "name": "ipython",
        "version": 3
      },
      "file_extension": ".py",
      "mimetype": "text/x-python",
      "name": "python",
      "nbconvert_exporter": "python",
      "pygments_lexer": "ipython3",
      "version": "3.8.7"
    }
  },
  "cells": [
    {
      "cell_type": "markdown",
      "metadata": {
        "id": "view-in-github",
        "colab_type": "text"
      },
      "source": [
        "<a href=\"https://colab.research.google.com/github/katrienvanmeulder/STEM6/blob/master/20210506_Opgaveboek_EEG.ipynb\" target=\"_parent\"><img src=\"https://colab.research.google.com/assets/colab-badge.svg\" alt=\"Open In Colab\"/></a>"
      ]
    },
    {
      "cell_type": "markdown",
      "metadata": {
        "id": "CJbPa7qz3D-D"
      },
      "source": [
        "# Elektro-encefalografie\n",
        "\n",
        "Elektro-encefalografie is een methode om de **elektrische activiteit** van de hersenen te meten. Het is een non-invasieve ingreep, waarbij de elektroden doorgaans op de hoofdhuid worden geplakt. EEG meet potentiaalverschillen die ontstaan door de ionenstroom in de zenuwcellen van de hersenen.  Via een speciale headset kan de hersenactiviteit in 14 punten gemeten worden."
      ]
    },
    {
      "cell_type": "code",
      "metadata": {
        "id": "WHaT-zFD3D-J"
      },
      "source": [
        "# hier komt jouw code\n"
      ],
      "execution_count": null,
      "outputs": []
    },
    {
      "cell_type": "markdown",
      "metadata": {
        "id": "REigqRay3D-K"
      },
      "source": [
        "Lees de **eegdata1.csv** dataset in een variabele `eeg1` en bekijk de eerste rijen en de datatypes van de kolommen. Zijn er noemenswaardige problemen?"
      ]
    },
    {
      "cell_type": "code",
      "metadata": {
        "id": "YaS7HZJ13D-K"
      },
      "source": [
        "# hier komt jouw code\n"
      ],
      "execution_count": null,
      "outputs": []
    },
    {
      "cell_type": "markdown",
      "metadata": {
        "id": "_1m4HUOk3D-L"
      },
      "source": [
        "Print de kolomnamen op van de dataset en ook de index."
      ]
    },
    {
      "cell_type": "code",
      "metadata": {
        "id": "DSe1cSPx3D-L"
      },
      "source": [
        "# hier komt jouw code\n"
      ],
      "execution_count": null,
      "outputs": []
    },
    {
      "cell_type": "markdown",
      "metadata": {
        "id": "CbA-K_dS3D-M"
      },
      "source": [
        "Print de waarden van meetpunt AF3 uit de `eeg1` dataset."
      ]
    },
    {
      "cell_type": "code",
      "metadata": {
        "id": "n0vOpQgo3D-M"
      },
      "source": [
        "# hier komt jouw code\n"
      ],
      "execution_count": null,
      "outputs": []
    },
    {
      "cell_type": "markdown",
      "metadata": {
        "id": "ThqDo4xh3D-M"
      },
      "source": [
        "Print nu ook het **gemiddelde, de minimum en maximum waarden** van meetpunt AF3."
      ]
    },
    {
      "cell_type": "code",
      "metadata": {
        "id": "OK30sJv83D-M"
      },
      "source": [
        "# hier komt jouw code\n"
      ],
      "execution_count": null,
      "outputs": []
    },
    {
      "cell_type": "markdown",
      "metadata": {
        "id": "4jPKvfoC3D-N"
      },
      "source": [
        "Doe hetzelfde voor de meetpunten F7 en F3."
      ]
    },
    {
      "cell_type": "code",
      "metadata": {
        "id": "fERnq3qH3D-N"
      },
      "source": [
        "# hier komt jouw code\n"
      ],
      "execution_count": null,
      "outputs": []
    },
    {
      "cell_type": "markdown",
      "metadata": {
        "id": "LIOoGSs93D-N"
      },
      "source": [
        "Print de inhoud van de cel op positie [10, 10], print dan enkel de 4de kolom en print totslot enkel de 4de rij uit."
      ]
    },
    {
      "cell_type": "code",
      "metadata": {
        "id": "SHujV_JR3D-N"
      },
      "source": [
        "# hier komt jouw code\n"
      ],
      "execution_count": null,
      "outputs": []
    },
    {
      "cell_type": "markdown",
      "metadata": {
        "id": "Aamlo7_63D-O"
      },
      "source": [
        "Vraag de waarde van cel [1,1] op, verander ze daarna naar 120 en controleer of de waarde veranderd is."
      ]
    },
    {
      "cell_type": "code",
      "metadata": {
        "id": "lq2TPhKQ3D-O",
        "outputId": "87868797-f1f2-4b8a-904e-ef6eaa6a2459"
      },
      "source": [
        "# hier komt jouw code\n",
        "eeg1.iloc[1,1] = 120\n",
        "print(eeg1.iloc[1,1])"
      ],
      "execution_count": null,
      "outputs": [
        {
          "output_type": "stream",
          "text": [
            "120\n"
          ],
          "name": "stdout"
        }
      ]
    },
    {
      "cell_type": "markdown",
      "metadata": {
        "id": "Nsrsfp1u3D-O"
      },
      "source": [
        "Print de waarden van kolommen TIMESTAMP kolom uit als een series-object."
      ]
    },
    {
      "cell_type": "code",
      "metadata": {
        "id": "URjpuQ7J3D-O",
        "outputId": "fd1b4a11-d07f-4ac2-9dd6-94c4adc4b6ec"
      },
      "source": [
        "# hier komt jouw code\n",
        "display(eeg1['TIMESTAMP'])\n",
        "type(eeg1['TIMESTAMP'] )"
      ],
      "execution_count": null,
      "outputs": [
        {
          "output_type": "display_data",
          "data": {
            "text/plain": [
              "0      71.840\n",
              "1      71.848\n",
              "2      71.856\n",
              "3      71.864\n",
              "4      71.872\n",
              "        ...  \n",
              "507    75.804\n",
              "508    75.812\n",
              "509    75.820\n",
              "510    75.827\n",
              "511    75.835\n",
              "Name: TIMESTAMP, Length: 512, dtype: float64"
            ]
          },
          "metadata": {
            "tags": []
          }
        },
        {
          "output_type": "execute_result",
          "data": {
            "text/plain": [
              "pandas.core.series.Series"
            ]
          },
          "metadata": {
            "tags": []
          },
          "execution_count": 25
        }
      ]
    },
    {
      "cell_type": "markdown",
      "metadata": {
        "id": "6JiVHgRx3D-P",
        "pycharm": {
          "name": "#%% md\n"
        }
      },
      "source": [
        "Print de waarden van kolommen TIMESTAMP kolom uit als een dataframe-object. Gebruik een list van strings om te indexeren i.p.v. alleen een string."
      ]
    },
    {
      "cell_type": "code",
      "metadata": {
        "id": "7JvQL8ac3D-P",
        "outputId": "19890b0a-715c-47cf-de48-13482e2a6886"
      },
      "source": [
        "# hier komt jouw code\n",
        "eeg1[['TIMESTAMP']]    "
      ],
      "execution_count": null,
      "outputs": [
        {
          "output_type": "execute_result",
          "data": {
            "text/html": [
              "<div>\n",
              "<style scoped>\n",
              "    .dataframe tbody tr th:only-of-type {\n",
              "        vertical-align: middle;\n",
              "    }\n",
              "\n",
              "    .dataframe tbody tr th {\n",
              "        vertical-align: top;\n",
              "    }\n",
              "\n",
              "    .dataframe thead th {\n",
              "        text-align: right;\n",
              "    }\n",
              "</style>\n",
              "<table border=\"1\" class=\"dataframe\">\n",
              "  <thead>\n",
              "    <tr style=\"text-align: right;\">\n",
              "      <th></th>\n",
              "      <th>TIMESTAMP</th>\n",
              "    </tr>\n",
              "  </thead>\n",
              "  <tbody>\n",
              "    <tr>\n",
              "      <th>0</th>\n",
              "      <td>71.840</td>\n",
              "    </tr>\n",
              "    <tr>\n",
              "      <th>1</th>\n",
              "      <td>71.848</td>\n",
              "    </tr>\n",
              "    <tr>\n",
              "      <th>2</th>\n",
              "      <td>71.856</td>\n",
              "    </tr>\n",
              "    <tr>\n",
              "      <th>3</th>\n",
              "      <td>71.864</td>\n",
              "    </tr>\n",
              "    <tr>\n",
              "      <th>4</th>\n",
              "      <td>71.872</td>\n",
              "    </tr>\n",
              "    <tr>\n",
              "      <th>...</th>\n",
              "      <td>...</td>\n",
              "    </tr>\n",
              "    <tr>\n",
              "      <th>507</th>\n",
              "      <td>75.804</td>\n",
              "    </tr>\n",
              "    <tr>\n",
              "      <th>508</th>\n",
              "      <td>75.812</td>\n",
              "    </tr>\n",
              "    <tr>\n",
              "      <th>509</th>\n",
              "      <td>75.820</td>\n",
              "    </tr>\n",
              "    <tr>\n",
              "      <th>510</th>\n",
              "      <td>75.827</td>\n",
              "    </tr>\n",
              "    <tr>\n",
              "      <th>511</th>\n",
              "      <td>75.835</td>\n",
              "    </tr>\n",
              "  </tbody>\n",
              "</table>\n",
              "<p>512 rows × 1 columns</p>\n",
              "</div>"
            ],
            "text/plain": [
              "     TIMESTAMP\n",
              "0       71.840\n",
              "1       71.848\n",
              "2       71.856\n",
              "3       71.864\n",
              "4       71.872\n",
              "..         ...\n",
              "507     75.804\n",
              "508     75.812\n",
              "509     75.820\n",
              "510     75.827\n",
              "511     75.835\n",
              "\n",
              "[512 rows x 1 columns]"
            ]
          },
          "metadata": {
            "tags": []
          },
          "execution_count": 31
        }
      ]
    },
    {
      "cell_type": "markdown",
      "metadata": {
        "id": "6_fCqjSC3D-P"
      },
      "source": [
        "Lees dataset eegdata4.csv in een dataframe genaamd `eeg4` en bekijk de NA-waarden van deze dataset. Hoeveel vind je er per kolom? Hoeveel vind je er in totaal?"
      ]
    },
    {
      "cell_type": "code",
      "metadata": {
        "id": "30U2PERk3D-P"
      },
      "source": [
        "# hier komt jouw code\n"
      ],
      "execution_count": null,
      "outputs": []
    },
    {
      "cell_type": "markdown",
      "metadata": {
        "id": "nAjeQNrS3D-P"
      },
      "source": [
        "Verander de NA-waarden naar de waarde -1, maar sla het resultaat niet op in het originele dataframe (dus voer de veranderingen niet door). Controleer of er dan effectief geen NA-waarden meer aanwezig zijn in het resulterende dataframe."
      ]
    },
    {
      "cell_type": "code",
      "metadata": {
        "id": "118lSDwp3D-Q"
      },
      "source": [
        "# hier komt jouw code"
      ],
      "execution_count": null,
      "outputs": []
    },
    {
      "cell_type": "markdown",
      "metadata": {
        "id": "3Rff5IW13D-Q"
      },
      "source": [
        "Verwijder nu alle rijen met een NA waarde met één commando, maar sla het resultaat ditmaal op in een nieuw dataframe genaamd eeg4_zonder_na."
      ]
    },
    {
      "cell_type": "code",
      "metadata": {
        "id": "JGcQH_Mz3D-Q"
      },
      "source": [
        "# hier komt jouw code"
      ],
      "execution_count": null,
      "outputs": []
    },
    {
      "cell_type": "markdown",
      "metadata": {
        "id": "hGAyswGB3D-Q"
      },
      "source": [
        "Maak een nieuw dataframe, enkel de kolommen 4 tm 17."
      ]
    },
    {
      "cell_type": "code",
      "metadata": {
        "id": "aFm8QoEv3D-R"
      },
      "source": [
        "# hier komt jouw code"
      ],
      "execution_count": null,
      "outputs": []
    },
    {
      "cell_type": "markdown",
      "metadata": {
        "id": "RTWTuzaP3D-R"
      },
      "source": [
        "Bereken per kolom het gemiddelde. Gebruik de .mean()-methode"
      ]
    },
    {
      "cell_type": "code",
      "metadata": {
        "id": "HHSP8OXh3D-R"
      },
      "source": [
        "# hier komt jouw code"
      ],
      "execution_count": null,
      "outputs": []
    },
    {
      "cell_type": "markdown",
      "metadata": {
        "id": "vNcmTA343D-R"
      },
      "source": [
        "Bereken per rij het gemiddelde. Gebruik eveneens de .mean()-methode\n",
        "data.mean(axis=1)"
      ]
    },
    {
      "cell_type": "markdown",
      "metadata": {
        "id": "JCtkVGgE3D-R"
      },
      "source": [
        "Wijzig het data type van timestamp (een float) naar een aantal microseconden sinds de start. De EEG headset doet namelijk 512 metingen elke 4ms.\n",
        "\n",
        "Ga als volgt te werk:\n",
        "\n",
        "1. Gebruik een reguliere expressie om de milliseconden te extraheren uit de timestamp. Dit doe je met een matching group.\n",
        "2. Cast dat resultaat naar een int en zet die gegevens om naar `timedelta`-objecten met de `to_timedelta`-functie waarbij je de `unit` gelijkstelt aan `ms`. Stop het resultaat in een series genaamd `milliseconden`.\n",
        "3. Doe gelijkaardige stappen voor de seconden.\n",
        "4. Trek van alle seconden het minimumseconden af.\n",
        "5. Tel de seconden op bij de milliseconden."
      ]
    },
    {
      "cell_type": "code",
      "metadata": {
        "id": "GOCd7dhl3D-S"
      },
      "source": [
        "# hier komt jouw code"
      ],
      "execution_count": null,
      "outputs": []
    }
  ]
}
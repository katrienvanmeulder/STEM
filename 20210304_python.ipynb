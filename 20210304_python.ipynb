{
  "nbformat": 4,
  "nbformat_minor": 0,
  "metadata": {
    "colab": {
      "name": "20210304_python.ipynb",
      "provenance": [],
      "collapsed_sections": [],
      "include_colab_link": true
    },
    "kernelspec": {
      "display_name": "Python 3",
      "language": "python",
      "name": "python3"
    },
    "language_info": {
      "codemirror_mode": {
        "name": "ipython",
        "version": 3
      },
      "file_extension": ".py",
      "mimetype": "text/x-python",
      "name": "python",
      "nbconvert_exporter": "python",
      "pygments_lexer": "ipython3",
      "version": "3.8.7"
    }
  },
  "cells": [
    {
      "cell_type": "markdown",
      "metadata": {
        "id": "view-in-github",
        "colab_type": "text"
      },
      "source": [
        "<a href=\"https://colab.research.google.com/github/katrienvanmeulder/STEM6/blob/master/20210304_python.ipynb\" target=\"_parent\"><img src=\"https://colab.research.google.com/assets/colab-badge.svg\" alt=\"Open In Colab\"/></a>"
      ]
    },
    {
      "cell_type": "markdown",
      "metadata": {
        "id": "vwYphyGpXy_C"
      },
      "source": [
        "# Python\n",
        "\n"
      ]
    },
    {
      "cell_type": "markdown",
      "metadata": {
        "id": "N-u69E01Xy_G"
      },
      "source": [
        "## Oefeningen op Python basics"
      ]
    },
    {
      "cell_type": "markdown",
      "metadata": {
        "id": "vda2HWQbXy_I"
      },
      "source": [
        "### Oefening 1 - Basis Python vaardigheden"
      ]
    },
    {
      "cell_type": "markdown",
      "metadata": {
        "id": "lVX7m2f0Xy_I"
      },
      "source": [
        "Print *Hello World* uit op scherm met de `print()`-functie."
      ]
    },
    {
      "cell_type": "code",
      "metadata": {
        "id": "rBlPr-_y0c2a"
      },
      "source": [
        "print(\"hello world\")"
      ],
      "execution_count": null,
      "outputs": []
    },
    {
      "cell_type": "markdown",
      "metadata": {
        "id": "-K_NbYlJ0c2d",
        "pycharm": {
          "name": "#%% md\n"
        }
      },
      "source": [
        "Maak nu een variabele `naam` aan waarin je je eigen naam stopt en print dan *Hello jouw_naam* uit. Gebruik hiervoor de `.format()`-methode van de string-klasse om er een geformateerde string te maken.\n",
        "\n",
        "Hier zie je voorbeeld van het gebruik van een `.format()`.\n",
        "\n",
        "```\n",
        "print('Dit is een string met {} {} {} erin'.format(3,'format','specifiers'))\n",
        "```"
      ]
    },
    {
      "cell_type": "code",
      "metadata": {
        "id": "s5Ppbolk0c2e",
        "colab": {
          "base_uri": "https://localhost:8080/"
        },
        "outputId": "cd26445f-a8ef-4fd8-f2d7-094dba2a539e"
      },
      "source": [
        "# hier komt jouw code\r\n",
        "print('Dit is een string met {} {} {} erin'.format(3,'format','specifiers'))"
      ],
      "execution_count": null,
      "outputs": [
        {
          "output_type": "stream",
          "text": [
            "Dit is een string met 3 format specifiers erin\n"
          ],
          "name": "stdout"
        }
      ]
    },
    {
      "cell_type": "markdown",
      "metadata": {
        "id": "uYeGUu0EXy_L"
      },
      "source": [
        "Bereken volgende zaken in de code cell hieronder en print ze uit.\n",
        "Print ze ook een keer uit m.b.v. `.format()` waarbij je maar 2 cijfers na de komma uitprint.\n",
        "* $25 \\cdot 10$\n",
        "* $e^4$\n",
        "* $3 \\cdot \\pi$\n",
        "* $sin(\\pi)$\n",
        "\n",
        "Door tussen de format-specifiers `:.2f` te plaatsen kan je de output beperken tot 2 cijfers na de komma. Zoek <a href=\"https://lmgtfy.app/?q=python+format+specifiers+best+practices\">online</a> op welke andere mogelijkheden er zijn."
      ]
    },
    {
      "cell_type": "code",
      "metadata": {
        "id": "jOCvQwLy0c2g",
        "colab": {
          "base_uri": "https://localhost:8080/"
        },
        "outputId": "135851b4-2128-47be-e9b9-927ad20cc097"
      },
      "source": [
        "# hier komt jouw code\r\n",
        "import math\r\n",
        "a = 25*10\r\n",
        "b = math.exp(4)\r\n",
        "c = 3*math.pi \r\n",
        "d = math.sin(math.pi)\r\n",
        "\r\n",
        "print('a =  {:.2f}'.format(a))\r\n",
        "print('b =  {:.2f}'.format(b))\r\n",
        "print('c =  {:.2f}'.format(c))\r\n",
        "print('d =  {:.2f}'.format(d))"
      ],
      "execution_count": null,
      "outputs": [
        {
          "output_type": "stream",
          "text": [
            "a =  250.00\n",
            "b =  54.60\n",
            "c =  9.42\n",
            "d =  0.00\n"
          ],
          "name": "stdout"
        }
      ]
    },
    {
      "cell_type": "markdown",
      "metadata": {
        "id": "VRwTWVfDXy_N"
      },
      "source": [
        "Maak aparte variabelen aan voor volgende gegevens. Gebruik dan de `type`-functie om de datatypes van alle variabelen uit te printen.\n",
        "\n",
        "* 1\n",
        "* 1.23456\n",
        "* 'Hello World'\n",
        "* \"Hello World\"\n",
        "* 2 > 5\n",
        "* True\n",
        "* NaN (Not a Number)\n",
        "* oneindig"
      ]
    },
    {
      "cell_type": "code",
      "metadata": {
        "id": "joO_nOKw0c2m",
        "colab": {
          "base_uri": "https://localhost:8080/"
        },
        "outputId": "bc6ca608-c454-4606-b1b8-0ffbb2573e42"
      },
      "source": [
        "# hier komt jouw code\r\n",
        "a = 1\r\n",
        "b = 1.23456\r\n",
        "\r\n",
        "print(type(a))\r\n",
        "print(type(b))"
      ],
      "execution_count": null,
      "outputs": [
        {
          "output_type": "stream",
          "text": [
            "<class 'int'>\n",
            "<class 'float'>\n"
          ],
          "name": "stdout"
        }
      ]
    },
    {
      "cell_type": "markdown",
      "metadata": {
        "id": "KHH-hGkp0c2n",
        "pycharm": {
          "name": "#%% md\n"
        }
      },
      "source": [
        "Probeer volgende basisoperaties uit op strings:\n",
        "* concatenatie: met de `+`-operator: `'Hello' + ' World'`\n",
        "* `.lower()`, `.upper()`, `.capitalize()`\n",
        "* `.replace( , )`\n",
        "* `in`-operator: `'He' in 'Hello'`\n",
        "* `str(28)`: string object maken van `int`"
      ]
    },
    {
      "cell_type": "code",
      "metadata": {
        "id": "yY2LPRw40c2s"
      },
      "source": [
        "# hier komt jouw code"
      ],
      "execution_count": null,
      "outputs": []
    },
    {
      "cell_type": "markdown",
      "metadata": {
        "id": "LLrznOJG0c2u",
        "pycharm": {
          "name": "#%% md\n"
        }
      },
      "source": [
        "### Oefening 2 - Datastructuren in Python"
      ]
    },
    {
      "cell_type": "markdown",
      "metadata": {
        "id": "nKurA73XXy_P"
      },
      "source": [
        "We maken om te beginnen een lege Python **lijst** `a` aan.\n",
        "\n",
        "Een lege lijst kan je maken met de `[]`-operator, dus zo:\n",
        "\n",
        "```python\n",
        "a=[]\n",
        "```\n",
        "Je kan een lijst ook maken met de `list()`-functie, maar meestal gebruik je de vierkante haken waar het kan (zie verder voor een voorbeeld van het gebruik van de `list()`-functie). Maak hieronder je lege lijst aan. Probeer beide manieren uit."
      ]
    },
    {
      "cell_type": "code",
      "metadata": {
        "id": "6jn8Bl9L0c2v"
      },
      "source": [
        "# hier komt jouw code"
      ],
      "execution_count": null,
      "outputs": []
    },
    {
      "cell_type": "markdown",
      "metadata": {
        "id": "bQpNgC7FXy_Q"
      },
      "source": [
        "Breid lijst `a` nu uit met de elementen `True` en `10`. Lukt dit? \n",
        "Gebruik de `append()`-methode."
      ]
    },
    {
      "cell_type": "code",
      "metadata": {
        "id": "sXJ3kjOy0c2w"
      },
      "source": [
        "# hier komt jouw code"
      ],
      "execution_count": null,
      "outputs": []
    },
    {
      "cell_type": "markdown",
      "metadata": {
        "id": "4nHLgsVDXy_R"
      },
      "source": [
        "Voeg tussen `True`, en `10 ` volgende lijst toe `['Hello', 10.3]` m.b.v. de `insert`-methode. Je gaat dus een lijst toevoegen aan een lijst."
      ]
    },
    {
      "cell_type": "code",
      "metadata": {
        "id": "EZz6RAQm0c2y"
      },
      "source": [
        "# hier komt jouw code"
      ],
      "execution_count": null,
      "outputs": []
    },
    {
      "cell_type": "markdown",
      "metadata": {
        "id": "xAAJSP8uXy_R"
      },
      "source": [
        "Een **dictionary** kan je aanmaken met de `{}`-operator. \n",
        "\n",
        "```python\n",
        "d = {\n",
        "    # hier komen de sleutel : waarde combinaties.\n",
        "    # sleutels zijn vaak strings\n",
        "}\n",
        "```\n",
        "Maak nu een dictionary aan `d` met twee sleutels:\n",
        "\n",
        "* 'a' : range(1,10,2)\n",
        "* 'b' : ['a','b']\n",
        "\n",
        "en voeg deze toe aan de lijst `a`. Bekijk je lijst."
      ]
    },
    {
      "cell_type": "code",
      "metadata": {
        "id": "VlpaPc_c0c2z"
      },
      "source": [
        "# hier komt jouw code"
      ],
      "execution_count": null,
      "outputs": []
    },
    {
      "cell_type": "markdown",
      "metadata": {
        "id": "9ErOohno0c20",
        "pycharm": {
          "name": "#%% md\n"
        }
      },
      "source": [
        "Print lengte van de lijst met de `len()`-functie."
      ]
    },
    {
      "cell_type": "code",
      "metadata": {
        "id": "JJ3sOl_m0c22"
      },
      "source": [
        "# hier komt jouw code"
      ],
      "execution_count": null,
      "outputs": []
    },
    {
      "cell_type": "markdown",
      "metadata": {
        "id": "ZjiFMJhe0c23",
        "pycharm": {
          "name": "#%% md\n"
        }
      },
      "source": [
        "Controleer of een element in een lijst zit met de `in`-operator: `e in [...]`\n",
        "Test dit uit op lijst `a`."
      ]
    },
    {
      "cell_type": "code",
      "metadata": {
        "id": "i-HXP_0z0c23"
      },
      "source": [
        "# hier komt jouw code"
      ],
      "execution_count": null,
      "outputs": []
    },
    {
      "cell_type": "markdown",
      "metadata": {
        "id": "6JHUHyFI0c24",
        "pycharm": {
          "name": "#%% md\n"
        }
      },
      "source": [
        "Maak een lijst `b` met het statement `b=a`. Verander het eerst element van `b` naar 10.\n",
        "Print nu `a` uit. Wat merk je?"
      ]
    },
    {
      "cell_type": "code",
      "metadata": {
        "id": "SICPAdJ80c25"
      },
      "source": [
        "# hier komt jouw code"
      ],
      "execution_count": null,
      "outputs": []
    },
    {
      "cell_type": "markdown",
      "metadata": {
        "id": "mB7UKAtf0c26",
        "pycharm": {
          "name": "#%% md\n"
        }
      },
      "source": [
        "Test volgende methodes uit op lijst `a`:\n",
        "* `.copy()`\n",
        "* `.remove()`\n",
        "* `.pop()`"
      ]
    },
    {
      "cell_type": "code",
      "metadata": {
        "id": "jqXw_hBX0c27"
      },
      "source": [
        "# hier komt jouw code"
      ],
      "execution_count": null,
      "outputs": []
    },
    {
      "cell_type": "markdown",
      "metadata": {
        "id": "vqgFSU5mXy_S"
      },
      "source": [
        "Maak een nieuwe lijst een overloop deze met een for-loop. Dat kan je als volgt doen:\n",
        "\n",
        "```python\n",
        "a = je_lijst\n",
        "\n",
        "for element in a:\n",
        "    # doe iets met het element\n",
        "```\n",
        "\n",
        "Je kan ook de indexen van de element van lijst gebruiken als extra gegeven. Dat doe je zo:\n",
        "```python\n",
        "a = je_lijst\n",
        "\n",
        "for i, element in enumerate(a):\n",
        "    # doe iets met element of zijn index i\n",
        "```\n",
        "\n",
        "De `enumerate`-functie geeft een zogenaamd `tuple` terug en dus moet je twee variabelen (`i` en `element`) hebben om de waarden ervan op te vangen. Tuples komen verder nog aan bod.\n",
        "\n",
        "Overloop de lijst van de letters van het alfabet en print ze uit met hun index. De lijst van letters van het alfabet zijn beschikbaar in de `string` library. Print alleen de kleine letters uit.\n",
        "\n",
        "```python\n",
        "import string\n",
        "string.ascii_letters  # dit is de lijst van lettters.\n",
        "```"
      ]
    },
    {
      "cell_type": "code",
      "metadata": {
        "id": "GSIPu0de0c29"
      },
      "source": [
        "# hier komt jouw code"
      ],
      "execution_count": null,
      "outputs": []
    },
    {
      "cell_type": "markdown",
      "metadata": {
        "id": "fL5tlfUmXy_T"
      },
      "source": [
        "Een handige manier om een lijst te **maken** is door gebruik te maken van een **list comprehension**. Een eenvoudige list comprehension zie je hieronder. Het is niet meer dan een for-loop die binnen vierkante (`[]`) staat.\n",
        "\n",
        "```python\n",
        "[doe_iets_met(x) for x in lijst]\n",
        "```\n",
        "Onderstaand voorbeeld maakt een lijst van strings met een volgnummer. Daarbij wordt gebruik gemaakt van een formateerstring.\n",
        "\n",
        "```python\n",
        "['vraag {}'.format(i) for i in range(1,21)]\n",
        "```\n",
        "Maak nu een lijst van kwadraten, genaamd `kwadraten`, van alle **even getallen** tussen 0 en 50 (inbegrepen)."
      ]
    },
    {
      "cell_type": "code",
      "metadata": {
        "id": "J0gL0Aoe0c2_"
      },
      "source": [
        "# hier komt jouw code"
      ],
      "execution_count": null,
      "outputs": []
    },
    {
      "cell_type": "markdown",
      "metadata": {
        "id": "JMWs5jLlXy_U"
      },
      "source": [
        "Ander handige functies zijn `zip` en `map`. Hieronder vind je een korte toelichten over wat ze doen en hoe je ermee kan werken. Ze komen verderop in de cursus nog terug aan bod.\n",
        "\n",
        "* `zip`: kan 2 of meerdere lijsten elementgewijs aan elkaar rijgen (zoals een rits). Het maakt een `zip`-object aan. Om er een lijst van te maken moet je er nog de `list`-functie op loslaten: `list(zip(lijst1, lijst2, lijst3,...))`.\n",
        "* `map`: kan een functie toepassen op alle elementen van een lijst. Het produceert een `map`-object. Gebruik weer de `list`-functie om er een lijst van te maken.\n",
        "\n",
        "Pas zip toe op je de lijst van **even getallen** en de bijhorende `kwadraten` uit de vorige opdracht, zodat je een lijst krijgt die er als volgt uit ziet:\n",
        "\n",
        "```python\n",
        "[(0, 0.0), (2, 4.0), (4, 16.0), ..., (50, 2500.0)]\n",
        "```\n",
        "Gebruik `map` om de functie `str.islower` (zonder haakjes) toe te passen op de letters van het alfabet."
      ]
    },
    {
      "cell_type": "code",
      "metadata": {
        "id": "kKzjVo9e0c3C"
      },
      "source": [
        "# hier komt jouw code"
      ],
      "execution_count": null,
      "outputs": []
    },
    {
      "cell_type": "markdown",
      "metadata": {
        "id": "MTSAB2UF0c3F"
      },
      "source": [
        "### Oefening 3 - Meer dimensionele lijsten"
      ]
    },
    {
      "cell_type": "markdown",
      "metadata": {
        "id": "f43F4U790c3G",
        "pycharm": {
          "name": "#%% md\n"
        }
      },
      "source": [
        "Maak een nieuwe Python lijst `a` die op zichzelf bestaat uit twee lijsten. Dit kan je doen door tweemaal de vierkante haken te gebruiken.\n",
        "\n",
        "```python\n",
        "a = [\n",
        "        [1,2,3],\n",
        "        [4,5,6],\n",
        "        ...\n",
        "    ]\n",
        "```\n",
        "Maak een twee dimensionele lijst aan met 3 rijen en 4 kolommen met de getallen 1 t.e.m. 12. Doe dit op drie manieren:\n",
        "* door alle waarden zelf uit te schrijven\n",
        "* door gebruik te maken van de range()-functie\n",
        "* door gebruikt te maken van een dubbele list comprehension (dit is wat moeilijker)."
      ]
    },
    {
      "cell_type": "code",
      "metadata": {
        "id": "a9uEkRZl0c3G"
      },
      "source": [
        "# hier komt jouw code"
      ],
      "execution_count": null,
      "outputs": []
    },
    {
      "cell_type": "markdown",
      "metadata": {
        "id": "iVNuao8m0c3H",
        "pycharm": {
          "name": "#%% md\n"
        }
      },
      "source": [
        "Print de lengtes van de verschillende dimensies van je twee dimensionele lijst. Pas de `len()`-functie toe op je totale lijst en op de rijen van je lijst. Kan je de dimensies (3 x 4) achterhalen?"
      ]
    },
    {
      "cell_type": "code",
      "metadata": {
        "id": "GKuD4Nad0c3H"
      },
      "source": [
        "# hier komt jouw code"
      ],
      "execution_count": null,
      "outputs": []
    },
    {
      "cell_type": "markdown",
      "metadata": {
        "id": "b5pvzs_MXy_V"
      },
      "source": [
        "### Oefening 4 - Python functies en anonieme functies"
      ]
    },
    {
      "cell_type": "markdown",
      "metadata": {
        "id": "t49--hSMXy_V",
        "pycharm": {
          "name": "#%% md\n"
        }
      },
      "source": [
        "Zoals je ondertussen wel weet, is Python een complete object oriented programmeertaal, en daar horen natuurlijk ook **zelfgeschreven functies** bij. Dit is een voorbeeld van een functiedefinitie:\n",
        "\n",
        "```python\n",
        "def mijn_functie( , arg2, ..., argn):\n",
        "    # hier kan je vanalles berekenen\n",
        "    # en eventueel een of meerdere waarde(n) terugggeven met\n",
        "    return a,b,c,d      # we geven 4 waarden terug in één keer terug (dit is eigenlijk een 4-tuple)\n",
        "\n",
        "a,b,c,d = mijn_functie(1, 2,..., 3)       # voorbeeld van een aanroep\n",
        "```\n",
        "Python is een *dynamically typed language* wat zoveel betekent als dat het datatype van variabelen pas tijdens de uitvoer van het programma gekend is. Dat maakt het programmeren wat lastiger omdat je makkelijker fouten zal schrijven.  Je kunt dit wat verbeteren door zelf *type hints* te schrijven.  Dat doe je zo, toegepast op bovenstaand voorbeeld:\n",
        "\n",
        "```python\n",
        "def mijn_functie(arg1 : int,arg2 : bool, ... ,argn: float):\n",
        "    # hier kan je vanalles berekenen\n",
        "    # en eventueel een of meerdere waarde(n) terugggeven met\n",
        "    return a,b,c,d      # we geven 4 waarden terug\n",
        "\n",
        "a,b,c,d = mijn_functie(1, True,..., 3.3)       # voorbeeld van een aanroep\n",
        "```\n",
        "PyCharm kan hier rekening mee houden en daarmee jou voorzien van betere code completion geven.\n",
        "\n",
        "Schrijf nu zelf een functie die de BMI berekent van een persoon o.b.v. van zijn lengte (in meter,`float`), en zijn gewicht (in kg, `float`)."
      ]
    },
    {
      "cell_type": "code",
      "metadata": {
        "id": "1jWWVlg60c3O"
      },
      "source": [
        "# hier komt jouw code"
      ],
      "execution_count": null,
      "outputs": []
    },
    {
      "cell_type": "markdown",
      "metadata": {
        "id": "44qRZfiRXy_X",
        "pycharm": {
          "name": "#%% md\n"
        }
      },
      "source": [
        "We maken nu twee lijsten aan met lengtes en gewichten van personen.\n",
        "\n",
        "```python\n",
        "lengten =   [1.75, 1.81, 1.65, 1.93]\n",
        "gewichten = [72.5, 83, 57.4, 103]\n",
        "```\n",
        "Pas nu jouw bmi-functie toe op zowel `lengten` als `gewichten` m.b.v. de `map`-functie. Geef daarbij de twee lijsten mee als argumenten. Zoals je al weet is het resultaat van de `map`-functie een `map`-object en geen lijst waardoor je het resultaat niet kan 'zien'. Je kan het `map`-object wel omzetten naar een list door gebruik te maken van de `list()`-functie, dus zoiets:\n",
        "\n",
        "```python\n",
        "m = map(....)\n",
        "list(m)\n",
        "```\n",
        "\n",
        "Hiermee zou je dan dit resultaat moeten bekomen.\n",
        "```python\n",
        "[23.6734693877551, 25.33500198406642, 21.08356290174472, 27.65174904024269]\n",
        "```"
      ]
    },
    {
      "cell_type": "code",
      "metadata": {
        "id": "wRf278zs0c3P"
      },
      "source": [
        "# hier komt jouw code"
      ],
      "execution_count": null,
      "outputs": []
    },
    {
      "cell_type": "markdown",
      "metadata": {
        "id": "7KK4aXPhXy_X",
        "pycharm": {
          "name": "#%% md\n"
        }
      },
      "source": [
        "Soms ga je maar hele kleine functies schrijven waarvoor geen volledige functiedefinitie nodig is. Vaak worden ze **anonieme functies** genoemd. In Python herken je ze aan het keyword `lambda`.\n",
        "\n",
        "```python\n",
        "lambda x,y,z: # doe iets met x,y en z\n",
        "```\n",
        "Deze functie heeft 3 argumenten (x,y en z) en wordt meestal op één regel geschreven.\n",
        "\n",
        "Een `lambda`-functie wordt meestal gecombineerd met `map` (of `apply`, die zie je later bij Pandas). Dit voorbeeld overloopt twee lijsten en berekent de elementgewijse som van de elementen.\n",
        "\n",
        "```python\n",
        "list(map(lambda x, y: x + y, [1,2,3],[4,5,6]))\n",
        "```\n",
        "Bereken de **vierkantswortel** van de elementen uit de volgende lijst: `[0,1,2]`. Je zou deze waarden `[0.0, 1.0, 1.4142135623730951]` moeten bekomen."
      ]
    },
    {
      "cell_type": "code",
      "metadata": {
        "id": "Oer86LRu0c3T"
      },
      "source": [
        "# hier komt jouw code"
      ],
      "execution_count": null,
      "outputs": []
    },
    {
      "cell_type": "markdown",
      "metadata": {
        "id": "GqJpFAlJXy_Y"
      },
      "source": [
        ""
      ]
    }
  ]
}
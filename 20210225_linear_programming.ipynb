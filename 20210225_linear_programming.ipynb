{
  "nbformat": 4,
  "nbformat_minor": 0,
  "metadata": {
    "colab": {
      "name": "20210225_linear_programming.ipynb",
      "provenance": [],
      "collapsed_sections": [],
      "authorship_tag": "ABX9TyMfxXZK9s/e23iRM1UONufA",
      "include_colab_link": true
    },
    "kernelspec": {
      "name": "python3",
      "display_name": "Python 3"
    }
  },
  "cells": [
    {
      "cell_type": "markdown",
      "metadata": {
        "id": "view-in-github",
        "colab_type": "text"
      },
      "source": [
        "<a href=\"https://colab.research.google.com/github/katrienvanmeulder/STEM6/blob/master/20210225_linear_programming.ipynb\" target=\"_parent\"><img src=\"https://colab.research.google.com/assets/colab-badge.svg\" alt=\"Open In Colab\"/></a>"
      ]
    },
    {
      "cell_type": "markdown",
      "metadata": {
        "id": "jc26aNvFjbvs"
      },
      "source": [
        "## Opdracht 1\n",
        "- Een bedrijf maakt twee producten (X en Y) met behulp van twee machines (A en B). \n",
        "- Elke eenheid van X die wordt geproduceerd vereist 50 minuten verwerkingstijd op machine A en 30 minuten verwerkingstijd op machine B.\n",
        "- Elke eenheid van Y die wordt geproduceerd vereist 24 minuten verwerkingstijd op machine A en 33 minuten verwerkingstijd op machine B.\n",
        "\n",
        "- Aan het begin van de huidige week zijn er 30 stuks X en 90 stuks Y op voorraad. \n",
        "\n",
        "- De beschikbare verwerkingstijd op machine A wordt geraamd op 40 uur en op machine B wordt verwacht 35 uur.\n",
        "\n",
        "- De vraag naar X in de huidige week wordt geraamd op 75 eenheden en voor Y op 95 eenheden. Het beleid van het bedrijf is om de gecombineerde som van de eenheden van X en de eenheden van Y in voorraad aan het einde van de week te maximaliseren.\n",
        "\n",
        "  - Formuleer het probleem om te beslissen hoeveel van elk product in de huidige week moet worden gemaakt als een lineair programma.\n",
        "  - Los dit lineaire programma grafisch op."
      ]
    },
    {
      "cell_type": "code",
      "metadata": {
        "id": "QS3yzwdTm7Pc"
      },
      "source": [
        "# noteer hier je code\n",
        "\n",
        "\n",
        "\n",
        "\n",
        "\n",
        "\n",
        "\n",
        "\n",
        "\n",
        "\n",
        "\n"
      ],
      "execution_count": null,
      "outputs": []
    },
    {
      "cell_type": "markdown",
      "metadata": {
        "id": "c0iy3MlqkTEL"
      },
      "source": [
        "## Opdracht 2\n",
        "\n",
        "- Een bedrijf is betrokken bij de productie van twee artikelen (X en Y). De middelen die nodig zijn om X en Y te produceren zijn tweeledig, namelijk machinetijd voor automatische verwerking en ambachtelijke tijd voor handafwerking. \n",
        "\n",
        "- De onderstaande tabel geeft het aantal minuten dat nodig is voor elk item:\n",
        "\n",
        "--- \n",
        "\n",
        "\n",
        "<table>\n",
        "<thead>\n",
        "<tr>\n",
        "<th></th>\n",
        "<th>Machine tijd</th>\n",
        "<th>Vakman tijd</th>\n",
        "</tr>\n",
        "</thead>\n",
        "<tbody>\n",
        "<tr>\n",
        "<td>Artikel X</td>\n",
        "<td>13</td>\n",
        "<td>20</td>\n",
        "</tr>\n",
        "<tr>\n",
        "<td>Artikel Y</td>\n",
        "<td>19</td>\n",
        "<td>29</td>\n",
        "</tr>\n",
        "</tbody>\n",
        "</table>\n",
        "\n",
        "--- \n",
        "\n",
        "- Het bedrijf heeft de komende werkweek 40 uur machinetijd beschikbaar, maar slechts 35 uur vakmanschap. \n",
        "\n",
        "- Machinetijd wordt geschat op  10 Euro per gewerkt uur en vakmanschap wordt geschat op 2 Euro per gewerkt uur. \n",
        "\n",
        "- Zowel de machine als de vakman zijn kosteloos. \n",
        "\n",
        "- De inkomsten die worden ontvangen voor elk geproduceerd artikel (alle productie wordt verkocht) is 20 Eurovoor X en 30 Euro voor Y. \n",
        "\n",
        "- Het bedrijf heeft een specifiek contract om 10 stuks van X per week te produceren voor een bepaalde klant.\n",
        "\n",
        "  - Formuleer het probleem om te beslissen hoeveel u per week wilt produceren als een lineair programma.\n",
        "  - Los dit lineaire programma grafisch op."
      ]
    },
    {
      "cell_type": "code",
      "metadata": {
        "id": "daPaHyfUjXh9"
      },
      "source": [
        "# noteer hier je code\n",
        "\n",
        "\n",
        "\n",
        "\n",
        "\n",
        "\n",
        "\n",
        "\n",
        "\n",
        "\n",
        "\n",
        "\n",
        "\n"
      ],
      "execution_count": 2,
      "outputs": []
    },
    {
      "cell_type": "code",
      "metadata": {
        "id": "nnJDBVfelnvG"
      },
      "source": [
        ""
      ],
      "execution_count": null,
      "outputs": []
    }
  ]
}
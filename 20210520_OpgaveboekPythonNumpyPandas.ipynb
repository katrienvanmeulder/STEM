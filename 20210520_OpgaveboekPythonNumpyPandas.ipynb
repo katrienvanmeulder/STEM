{
  "nbformat": 4,
  "nbformat_minor": 0,
  "metadata": {
    "kernelspec": {
      "display_name": "Python 3",
      "language": "python",
      "name": "python3"
    },
    "language_info": {
      "codemirror_mode": {
        "name": "ipython",
        "version": 2
      },
      "file_extension": ".py",
      "mimetype": "text/x-python",
      "name": "python",
      "nbconvert_exporter": "python",
      "pygments_lexer": "ipython2",
      "version": "2.7.6"
    },
    "colab": {
      "name": "20210520_OpgaveboekPythonNumpyPandas.ipynb",
      "provenance": [],
      "include_colab_link": true
    }
  },
  "cells": [
    {
      "cell_type": "markdown",
      "metadata": {
        "id": "view-in-github",
        "colab_type": "text"
      },
      "source": [
        "<a href=\"https://colab.research.google.com/github/katrienvanmeulder/STEM6/blob/master/20210520_OpgaveboekPythonNumpyPandas.ipynb\" target=\"_parent\"><img src=\"https://colab.research.google.com/assets/colab-badge.svg\" alt=\"Open In Colab\"/></a>"
      ]
    },
    {
      "cell_type": "code",
      "metadata": {
        "id": "6YsDb1PUHAiD"
      },
      "source": [
        "# hier komt jouw code"
      ],
      "execution_count": null,
      "outputs": []
    },
    {
      "cell_type": "markdown",
      "metadata": {
        "collapsed": true,
        "pycharm": {
          "name": "#%% md\n"
        },
        "id": "u346FVEHHAiM"
      },
      "source": [
        "# Opgaven op Python, Numpy en Pandas\n",
        "In de opgaveboekjes is het de bedoeling dat je zelf eerst goed zoekt, en wroet om oplossingen te vinden. Dit is de beste manier om veel bij te leren."
      ]
    },
    {
      "cell_type": "markdown",
      "metadata": {
        "collapsed": false,
        "pycharm": {
          "name": "#%% md\n"
        },
        "id": "StGrFvfyHAiN"
      },
      "source": [
        "## Vraag 1\n",
        "Maak een Pandas tabel met 4 kolommen.\n",
        "* id: 1, 2, 3, 4, 5\n",
        "* leeftijd: 15, 18, 11, 17, 20\n",
        "* gewicht: 54, 68, 41, 59, 65\n",
        "* temp: 36.5, 37.1, 36.4, 37.2, 36.9\n",
        "\n",
        "Je kunt deze aanmaken op verschillende manieren, hoe meer je er vindt, hoe beter je de leerstof onder de knie hebt.\n",
        "\n",
        "Enkele begrippen die je kunnen leiden in je zoektocht:\n",
        "* een Python dictionary met Python lists\n",
        "* een Python dictionary met Pandas Series\n",
        "* een 2D - Numpy array"
      ]
    },
    {
      "cell_type": "code",
      "metadata": {
        "id": "REZka70YHAiN"
      },
      "source": [
        "# hier komt jouw code"
      ],
      "execution_count": null,
      "outputs": []
    },
    {
      "cell_type": "code",
      "metadata": {
        "id": "zPqQT54QHAiN"
      },
      "source": [
        "# hier komt jouw code"
      ],
      "execution_count": null,
      "outputs": []
    },
    {
      "cell_type": "code",
      "metadata": {
        "id": "qKA497VhHAiO"
      },
      "source": [
        "# hier komt jouw code"
      ],
      "execution_count": null,
      "outputs": []
    },
    {
      "cell_type": "markdown",
      "metadata": {
        "collapsed": false,
        "pycharm": {
          "name": "#%% md\n"
        },
        "id": "VxRXI9FMHAiO"
      },
      "source": [
        "## Vraag 2\n",
        "Haal de 2e kolom uit de tabel. Hier zijn heel veel mogelijkheden om te doen.\n",
        "Bekijk per mogelijkheid ook welke Python type het is. Vind je ze alle 7?"
      ]
    },
    {
      "cell_type": "code",
      "metadata": {
        "id": "FES8krZXHAiO"
      },
      "source": [
        "# hier komt jouw code"
      ],
      "execution_count": null,
      "outputs": []
    },
    {
      "cell_type": "code",
      "metadata": {
        "id": "Yw1dZPo4HAiO"
      },
      "source": [
        "# hier komt jouw code"
      ],
      "execution_count": null,
      "outputs": []
    },
    {
      "cell_type": "code",
      "metadata": {
        "id": "KTX-9sVlHAiP"
      },
      "source": [
        "# hier komt jouw code"
      ],
      "execution_count": null,
      "outputs": []
    },
    {
      "cell_type": "code",
      "metadata": {
        "id": "CGqaKek7HAiP"
      },
      "source": [
        "# hier komt jouw code"
      ],
      "execution_count": null,
      "outputs": []
    },
    {
      "cell_type": "code",
      "metadata": {
        "id": "rdoSvDQpHAiP"
      },
      "source": [
        "# hier komt jouw code"
      ],
      "execution_count": null,
      "outputs": []
    },
    {
      "cell_type": "code",
      "metadata": {
        "id": "80bPOVSxHAiP"
      },
      "source": [
        "# hier komt jouw code"
      ],
      "execution_count": null,
      "outputs": []
    },
    {
      "cell_type": "code",
      "metadata": {
        "id": "FU66J0egHAiP"
      },
      "source": [
        "# hier komt jouw code"
      ],
      "execution_count": null,
      "outputs": []
    },
    {
      "cell_type": "code",
      "metadata": {
        "id": "xVHLnn1wHAiQ"
      },
      "source": [
        "# hier komt jouw code"
      ],
      "execution_count": null,
      "outputs": []
    },
    {
      "cell_type": "markdown",
      "metadata": {
        "collapsed": false,
        "pycharm": {
          "name": "#%% md\n"
        },
        "id": "5n1NSE_WHAiQ"
      },
      "source": [
        "## Vraag 3\n",
        "Haal de 3e rij uit de tabel"
      ]
    },
    {
      "cell_type": "code",
      "metadata": {
        "id": "E1JCxitXHAiQ"
      },
      "source": [
        "# hier komt jouw code"
      ],
      "execution_count": null,
      "outputs": []
    },
    {
      "cell_type": "markdown",
      "metadata": {
        "collapsed": false,
        "pycharm": {
          "name": "#%% md\n"
        },
        "id": "ibCnXaEFHAiQ"
      },
      "source": [
        "## Vraag 4\n",
        "Bereken de minimum- en maximumleeftijd"
      ]
    },
    {
      "cell_type": "code",
      "metadata": {
        "id": "bFG1t-KLHAiQ"
      },
      "source": [
        "# hier komt jouw code"
      ],
      "execution_count": null,
      "outputs": []
    },
    {
      "cell_type": "markdown",
      "metadata": {
        "collapsed": false,
        "pycharm": {
          "name": "#%% md\n"
        },
        "id": "hbhSFN8dHAiQ"
      },
      "source": [
        "## Vraag 5\n",
        "Bereken de som van alle gewichten en deel die door het aantal gewichten"
      ]
    },
    {
      "cell_type": "code",
      "metadata": {
        "id": "xJQLY7iwHAiR"
      },
      "source": [
        "# hier komt jouw code"
      ],
      "execution_count": null,
      "outputs": []
    },
    {
      "cell_type": "markdown",
      "metadata": {
        "collapsed": false,
        "pycharm": {
          "name": "#%% md\n"
        },
        "id": "iz5vNwIbHAiR"
      },
      "source": [
        "## Vraag 6\n",
        "Deel alle gewichten door 1000"
      ]
    },
    {
      "cell_type": "code",
      "metadata": {
        "id": "lryFVC4AHAiR"
      },
      "source": [
        "# hier komt jouw code"
      ],
      "execution_count": null,
      "outputs": []
    },
    {
      "cell_type": "markdown",
      "metadata": {
        "collapsed": false,
        "pycharm": {
          "name": "#%% md\n"
        },
        "id": "AYW8d5O2HAiS"
      },
      "source": [
        "## Vraag 7\n",
        "Zet alle temperaturen om naar Fahrenheit"
      ]
    },
    {
      "cell_type": "code",
      "metadata": {
        "id": "TEtcSu0kHAiS"
      },
      "source": [
        "# hier komt jouw code"
      ],
      "execution_count": null,
      "outputs": []
    },
    {
      "cell_type": "markdown",
      "metadata": {
        "collapsed": false,
        "pycharm": {
          "name": "#%% md\n"
        },
        "id": "bQbyucsFHAiS"
      },
      "source": [
        "## Vraag 8\n",
        "Bewaar de tabel in een bestand"
      ]
    },
    {
      "cell_type": "code",
      "metadata": {
        "id": "dbc9Rxg_HAiS"
      },
      "source": [
        "# hier komt jouw code"
      ],
      "execution_count": null,
      "outputs": []
    },
    {
      "cell_type": "markdown",
      "metadata": {
        "collapsed": false,
        "id": "yKR6z9LEHAiT"
      },
      "source": [
        "## Vraag 9\n",
        "Open de tabel in PyCharm als een datatabel (tabblad Data onderaan), verander er iets aan en bewaar terug."
      ]
    },
    {
      "cell_type": "code",
      "metadata": {
        "id": "qnIfphf_HAiT"
      },
      "source": [
        "# hier komt jouw code"
      ],
      "execution_count": null,
      "outputs": []
    },
    {
      "cell_type": "markdown",
      "metadata": {
        "collapsed": false,
        "id": "jggYIYRIHAiT"
      },
      "source": [
        "## Vraag 10\n",
        "Lees de tabel terug uit het bestand"
      ]
    },
    {
      "cell_type": "code",
      "metadata": {
        "id": "JldUozPVHAiT"
      },
      "source": [
        "# hier komt jouw code"
      ],
      "execution_count": null,
      "outputs": []
    },
    {
      "cell_type": "markdown",
      "metadata": {
        "collapsed": false,
        "id": "zM3mk_CtHAiT"
      },
      "source": [
        "## Vraag 11\n",
        "Verwijder de kolom “id”"
      ]
    },
    {
      "cell_type": "code",
      "metadata": {
        "id": "cVKJBK4hHAiU"
      },
      "source": [
        "# hier komt jouw code"
      ],
      "execution_count": null,
      "outputs": []
    },
    {
      "cell_type": "markdown",
      "metadata": {
        "collapsed": false,
        "id": "0S_g90j5HAiU"
      },
      "source": [
        "## Vraag 12\n",
        "Voeg een kolom “lengte” toe met gegevens: 160, 175, 162, 169, 179"
      ]
    },
    {
      "cell_type": "code",
      "metadata": {
        "id": "K9CU3h5iHAiU"
      },
      "source": [
        "# hier komt jouw code"
      ],
      "execution_count": null,
      "outputs": []
    },
    {
      "cell_type": "markdown",
      "metadata": {
        "collapsed": false,
        "id": "BPogNwFGHAiU"
      },
      "source": [
        "## Vraag 13\n",
        "Bereken de BMI van iedere persoon in de tabel"
      ]
    },
    {
      "cell_type": "code",
      "metadata": {
        "id": "2oZ5P_EUHAiU"
      },
      "source": [
        "# hier komt jouw code"
      ],
      "execution_count": null,
      "outputs": []
    },
    {
      "cell_type": "markdown",
      "metadata": {
        "collapsed": false,
        "id": "dXMQpFB1HAiU"
      },
      "source": [
        "## Vraag 14\n",
        "Voeg deze BMI als kolom toe aan de tabel"
      ]
    },
    {
      "cell_type": "code",
      "metadata": {
        "id": "pMdKJA7OHAiU"
      },
      "source": [
        "# hier komt jouw code"
      ],
      "execution_count": null,
      "outputs": []
    },
    {
      "cell_type": "markdown",
      "metadata": {
        "collapsed": false,
        "id": "WZu3RGfAHAiV"
      },
      "source": [
        "## Vraag 15\n",
        "Behoud alleen de gewichten die kleiner of gelijk zijn aan 60 uit de kolom gewicht."
      ]
    },
    {
      "cell_type": "code",
      "metadata": {
        "id": "-r55GY4dHAiV"
      },
      "source": [
        "# hier komt jouw code"
      ],
      "execution_count": null,
      "outputs": []
    },
    {
      "cell_type": "markdown",
      "metadata": {
        "collapsed": false,
        "id": "zcNot6KpHAiV"
      },
      "source": [
        "## Vraag 16\n",
        "Vervang in de kolom leeftijd alle leeftijden groter of gelijk aan 18 door 19"
      ]
    },
    {
      "cell_type": "code",
      "metadata": {
        "id": "dt9naxq8HAiV"
      },
      "source": [
        "# hier komt jouw code"
      ],
      "execution_count": null,
      "outputs": []
    },
    {
      "cell_type": "markdown",
      "metadata": {
        "collapsed": false,
        "pycharm": {
          "name": "#%% md\n"
        },
        "id": "H_KqLeNBHAiV"
      },
      "source": [
        "## Vraag 17\n",
        "Vind alle temperaturen van de personen die ouder zijn dan 16 jaar"
      ]
    },
    {
      "cell_type": "code",
      "metadata": {
        "id": "bhlB0YeBHAiV"
      },
      "source": [
        "# hier komt jouw code"
      ],
      "execution_count": null,
      "outputs": []
    }
  ]
}
{
  "nbformat": 4,
  "nbformat_minor": 0,
  "metadata": {
    "colab": {
      "name": "20200910_getal_e.ipynb",
      "provenance": [],
      "collapsed_sections": [],
      "authorship_tag": "ABX9TyNTxYLNuSX0EvoVfmbYDa5P",
      "include_colab_link": true
    },
    "kernelspec": {
      "name": "python3",
      "display_name": "Python 3"
    }
  },
  "cells": [
    {
      "cell_type": "markdown",
      "metadata": {
        "id": "view-in-github",
        "colab_type": "text"
      },
      "source": [
        "<a href=\"https://colab.research.google.com/github/katrienvanmeulder/STEM6/blob/master/20200910_getal_e.ipynb\" target=\"_parent\"><img src=\"https://colab.research.google.com/assets/colab-badge.svg\" alt=\"Open In Colab\"/></a>"
      ]
    },
    {
      "cell_type": "markdown",
      "metadata": {
        "id": "dAAXA-3FC9vd",
        "colab_type": "text"
      },
      "source": [
        "# Het getal e\n",
        "\n",
        "* https://www.youtube.com/watch?v=AuA2EAgAegE\n",
        "* http://futureprooflearning.be/chapter/functies_exponentiele"
      ]
    },
    {
      "cell_type": "code",
      "metadata": {
        "id": "5OuqkiFZMf11",
        "colab_type": "code",
        "colab": {
          "base_uri": "https://localhost:8080/",
          "height": 34
        },
        "outputId": "710d7a37-ed44-414c-9c39-c2d823b11286"
      },
      "source": [
        "import numpy as np\n",
        "print(np.e)"
      ],
      "execution_count": null,
      "outputs": [
        {
          "output_type": "stream",
          "text": [
            "2.718281828459045\n"
          ],
          "name": "stdout"
        }
      ]
    },
    {
      "cell_type": "markdown",
      "metadata": {
        "id": "jhbRERU92juU",
        "colab_type": "text"
      },
      "source": [
        "# Opgave 1\n",
        "\n",
        "* Bepaal het getal $e$ gebruikmakend van \n",
        "$$\n",
        "e = \\lim_{n \\rightarrow +\\infty}\\left( 1 + \\frac{1}{n}\\right)^n\n",
        "$$\n",
        "* Creëer een lijst met opeenvolgende waarden:\n",
        "  * $$ \\left( 1 + 1/1 \\right)^1$$\n",
        "  * $$ \\left( 1 + 1/2 \\right)^2$$\n",
        "  * $$ \\left( 1 + 1/3 \\right)^3$$\n",
        "  * $$ \\left( 1 + 1/4 \\right)^4$$\n",
        "  * $ \\ldots $\n",
        "* Illustreer aan de hand van een grafiek"
      ]
    },
    {
      "cell_type": "code",
      "metadata": {
        "id": "6YXLk5RIHNBk",
        "colab_type": "code",
        "colab": {}
      },
      "source": [
        "# schrijf hier je code voor opgave 1\n",
        "\n",
        "\n"
      ],
      "execution_count": null,
      "outputs": []
    },
    {
      "cell_type": "code",
      "metadata": {
        "id": "cVmgCy6dJ3_s",
        "colab_type": "code",
        "colab": {}
      },
      "source": [
        "# plot hier de grafiek\n",
        "import matplotlib.pyplot as plt\n",
        "fig, ax = plt.subplots(figsize=(10,8))\n",
        "\n"
      ],
      "execution_count": null,
      "outputs": []
    },
    {
      "cell_type": "markdown",
      "metadata": {
        "id": "x_8XD36t3kPX",
        "colab_type": "text"
      },
      "source": [
        "# Opgave 2\n",
        "\n",
        "* Bepaal het getal $e$  gebruikmakend van \n",
        "$$\n",
        "e = 1 +\\frac{1}{1!} + \\frac{1}{2!} + \\frac{1}{3!} + \\ldots\n",
        "$$\n",
        "* Creëer een lijst met opeenvolgende waarden:\n",
        "  * $$ 1 $$\n",
        "  * $$1 +\\frac{1}{1!} $$\n",
        "  * $$1 +\\frac{1}{1!} + \\frac{1}{2!} $$\n",
        "  * $$1 +\\frac{1}{1!} + \\frac{1}{2!} + \\frac{1}{3!} $$\n",
        "  * $\\ldots$\n",
        "* Illustreer aan de hand van een grafiek"
      ]
    },
    {
      "cell_type": "code",
      "metadata": {
        "id": "PBLjoEbADIrq",
        "colab_type": "code",
        "colab": {
          "base_uri": "https://localhost:8080/",
          "height": 34
        },
        "outputId": "7fa42eb8-01ff-45c9-a016-e68eaf17ab1b"
      },
      "source": [
        "import numpy as np\n",
        "#faculteit van 4\n",
        "np.math.factorial(4)"
      ],
      "execution_count": null,
      "outputs": [
        {
          "output_type": "execute_result",
          "data": {
            "text/plain": [
              "24"
            ]
          },
          "metadata": {
            "tags": []
          },
          "execution_count": 2
        }
      ]
    },
    {
      "cell_type": "code",
      "metadata": {
        "id": "9H6-DhoCHWS1",
        "colab_type": "code",
        "colab": {}
      },
      "source": [
        "# schrijf hier je code voor opgave 2\n",
        "\n",
        "\n",
        "\n"
      ],
      "execution_count": null,
      "outputs": []
    },
    {
      "cell_type": "code",
      "metadata": {
        "id": "X0zeUIveKCYt",
        "colab_type": "code",
        "colab": {}
      },
      "source": [
        "# plot hier de grafiek\n",
        "import matplotlib.pyplot as plt\n",
        "fig, ax = plt.subplots(figsize=(10,8))\n",
        "\n",
        "\n"
      ],
      "execution_count": null,
      "outputs": []
    }
  ]
}
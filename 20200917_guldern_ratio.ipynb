{
  "nbformat": 4,
  "nbformat_minor": 0,
  "metadata": {
    "colab": {
      "name": "20200917_guldern_ratio.ipynb",
      "provenance": [],
      "collapsed_sections": [],
      "authorship_tag": "ABX9TyNS2r6GyTYV+sFW96sVxGTx",
      "include_colab_link": true
    },
    "kernelspec": {
      "name": "python3",
      "display_name": "Python 3"
    }
  },
  "cells": [
    {
      "cell_type": "markdown",
      "metadata": {
        "id": "view-in-github",
        "colab_type": "text"
      },
      "source": [
        "<a href=\"https://colab.research.google.com/github/katrienvanmeulder/STEM6/blob/master/20200917_guldern_ratio.ipynb\" target=\"_parent\"><img src=\"https://colab.research.google.com/assets/colab-badge.svg\" alt=\"Open In Colab\"/></a>"
      ]
    },
    {
      "cell_type": "markdown",
      "metadata": {
        "id": "R8K1sYS7BGH8",
        "colab_type": "text"
      },
      "source": [
        "# Gulden ratio = gulden snede = $\\varphi$\n",
        "\n",
        "* https://www.youtube.com/watch?v=17YOp6j7i6k\n",
        "\n",
        "* https://www.youtube.com/watch?v=SjSHVDfXHQ4\n",
        "\n",
        "* https://nl.wikipedia.org/wiki/Gulden_snede\n",
        "\n",
        "\n",
        "* Gegeven een rechthoek met $1$ als breedte en $x$ de lengte van de rechthoek.\n",
        "\n",
        "* Gulden snede is de (positieve) oplossing van de vergelijking, waarbij \n",
        "\n",
        "$$\n",
        "\\frac{x}{1} = \\frac{1}{x-1}\n",
        "$$\n",
        "\n",
        "* http://futureprooflearning.be/chapter/limieten_rijen#bookmark4\n",
        "\n",
        "* Gegeven de rij van Fibonacci: $f_1, f_2, f_3, f_4, \\ldots$\n",
        " waarbij: \n",
        " $$\n",
        "f_1 = 1 \\, \\quad f_2 = 1 \\,\\,\\,\\quad f_{n+2} = f_{n+1} + f_{n}\n",
        " $$\n",
        "* Beschouw het de rij die $g_n = \\frac{f_{n+1}}{f_n}$\n",
        "* \n",
        " $$\n",
        " \\lim_{n \\longrightarrow +\\infty} q_n = \\varphi\n",
        " $$"
      ]
    },
    {
      "cell_type": "markdown",
      "metadata": {
        "id": "zeOOHQMyNaQO",
        "colab_type": "text"
      },
      "source": [
        "# Opgave 1:\n",
        "\n",
        "* Bepaal de rij van Fibonacci, $f_a, f_2, f_3, \\ldots$\n",
        "* Bepaal de rij $q_n = \\frac{f_{n+1}}{f_n}$\n",
        "* Bepaal  $$\\lim_{n \\longrightarrow +\\infty} q_n$$\n",
        "* Plot de opeenvolgende termen van $q_n$ "
      ]
    },
    {
      "cell_type": "code",
      "metadata": {
        "id": "D94f4YJhA86n",
        "colab_type": "code",
        "colab": {}
      },
      "source": [
        "# schrijf hier de code van opgave 1\n",
        "\n",
        "\n",
        "\n",
        "\n",
        "\n",
        "\n"
      ],
      "execution_count": null,
      "outputs": []
    },
    {
      "cell_type": "markdown",
      "metadata": {
        "id": "eHzYPcRYOJc0",
        "colab_type": "text"
      },
      "source": [
        "# Opgave 2\n",
        "\n",
        "* Varianten op de rij van Fibonacci\n",
        "\n",
        "* Neem als eerste twee termen 2 willekeurige **natuurlijke** getallen, convergeren de quotienten van opeenvolgende termen ook naar de gulden snede? Sneller dan de eigenlijke rij van Fibonacci?\n",
        "\n",
        "* Zelfde vraag als hierboven maar voor 2 willkeurige **gehele** getallen als eerste termen?\n",
        "* Zelfde vraag als hierboven maar voor 2 willkeurige **reële** getallen als eerste termen?\n",
        "* Illustreer met een plot (grafiek)"
      ]
    },
    {
      "cell_type": "code",
      "metadata": {
        "id": "iyAy_-OVOIuM",
        "colab_type": "code",
        "colab": {}
      },
      "source": [
        "# schrijf hier de code voor opgave 2\n",
        "\n",
        "\n",
        "\n",
        "\n",
        "\n",
        "\n",
        "\n",
        "\n",
        "\n"
      ],
      "execution_count": null,
      "outputs": []
    }
  ]
}
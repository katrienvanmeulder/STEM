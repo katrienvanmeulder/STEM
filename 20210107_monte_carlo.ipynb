{
  "nbformat": 4,
  "nbformat_minor": 0,
  "metadata": {
    "colab": {
      "name": "20210107_monte_carlo.ipynb",
      "provenance": [],
      "collapsed_sections": [],
      "authorship_tag": "ABX9TyOLgltB+x/aXSPjP0Oipx5/",
      "include_colab_link": true
    },
    "kernelspec": {
      "name": "python3",
      "display_name": "Python 3"
    }
  },
  "cells": [
    {
      "cell_type": "markdown",
      "metadata": {
        "id": "view-in-github",
        "colab_type": "text"
      },
      "source": [
        "<a href=\"https://colab.research.google.com/github/katrienvanmeulder/STEM6/blob/master/20210107_monte_carlo.ipynb\" target=\"_parent\"><img src=\"https://colab.research.google.com/assets/colab-badge.svg\" alt=\"Open In Colab\"/></a>"
      ]
    },
    {
      "cell_type": "code",
      "metadata": {
        "id": "opv76F-H3BLB"
      },
      "source": [
        "import matplotlib.pyplot as plt\n",
        "from google.colab import drive\n",
        "from PIL import Image \n",
        "import numpy as np\n",
        "%matplotlib inline \n"
      ],
      "execution_count": 2,
      "outputs": []
    },
    {
      "cell_type": "code",
      "metadata": {
        "colab": {
          "base_uri": "https://localhost:8080/"
        },
        "id": "xf6g77O53TaG",
        "outputId": "629a01da-be57-4a52-d5dc-c531bd2e034f"
      },
      "source": [
        "# mount google drive\n",
        "#drive.mount('/content/drive')"
      ],
      "execution_count": 3,
      "outputs": [
        {
          "output_type": "stream",
          "text": [
            "Mounted at /content/drive\n"
          ],
          "name": "stdout"
        }
      ]
    },
    {
      "cell_type": "markdown",
      "metadata": {
        "id": "f945G1X453lc"
      },
      "source": [
        "# Matrix als een beeld"
      ]
    },
    {
      "cell_type": "code",
      "metadata": {
        "id": "FZ6PspKkxOt7"
      },
      "source": [
        "w, h = 10, 10"
      ],
      "execution_count": 4,
      "outputs": []
    },
    {
      "cell_type": "code",
      "metadata": {
        "id": "C350MLq-361w"
      },
      "source": [
        "data1 = np.zeros((h, w), dtype=np.uint8)\n",
        "data1[0:5, 0:5] = [255] # white patch in upper left"
      ],
      "execution_count": 5,
      "outputs": []
    },
    {
      "cell_type": "code",
      "metadata": {
        "colab": {
          "base_uri": "https://localhost:8080/"
        },
        "id": "dI9EsLZn3_9N",
        "outputId": "4c49525c-baa2-417d-b683-1fcd460af9fc"
      },
      "source": [
        "data1"
      ],
      "execution_count": 6,
      "outputs": [
        {
          "output_type": "execute_result",
          "data": {
            "text/plain": [
              "array([[255, 255, 255, 255, 255,   0,   0,   0,   0,   0],\n",
              "       [255, 255, 255, 255, 255,   0,   0,   0,   0,   0],\n",
              "       [255, 255, 255, 255, 255,   0,   0,   0,   0,   0],\n",
              "       [255, 255, 255, 255, 255,   0,   0,   0,   0,   0],\n",
              "       [255, 255, 255, 255, 255,   0,   0,   0,   0,   0],\n",
              "       [  0,   0,   0,   0,   0,   0,   0,   0,   0,   0],\n",
              "       [  0,   0,   0,   0,   0,   0,   0,   0,   0,   0],\n",
              "       [  0,   0,   0,   0,   0,   0,   0,   0,   0,   0],\n",
              "       [  0,   0,   0,   0,   0,   0,   0,   0,   0,   0],\n",
              "       [  0,   0,   0,   0,   0,   0,   0,   0,   0,   0]], dtype=uint8)"
            ]
          },
          "metadata": {
            "tags": []
          },
          "execution_count": 6
        }
      ]
    },
    {
      "cell_type": "code",
      "metadata": {
        "colab": {
          "base_uri": "https://localhost:8080/",
          "height": 265
        },
        "id": "jR3-2spIxOq-",
        "outputId": "89b87627-7dfc-40e4-d9b0-eb25e8ccff38"
      },
      "source": [
        "plt.imshow(data1, cmap=\"gray\")\n",
        "plt.show()"
      ],
      "execution_count": 7,
      "outputs": [
        {
          "output_type": "display_data",
          "data": {
            "image/png": "[encoded data removed]",
            "text/plain": [
              "<Figure size 432x288 with 1 Axes>"
            ]
          },
          "metadata": {
            "tags": [],
            "needs_background": "light"
          }
        }
      ]
    },
    {
      "cell_type": "code",
      "metadata": {
        "colab": {
          "base_uri": "https://localhost:8080/",
          "height": 265
        },
        "id": "KWkNNc5nxOlV",
        "outputId": "c2cbd6d0-d564-4b23-e59d-9f492ea0f841"
      },
      "source": [
        "data2 = np.zeros((h, w, 3), dtype=np.uint8)\n",
        "data2[0:5, 0:5] = [255, 0, 0] # red patch in upper left\n",
        "data2[5:10, 5:10] = [0, 255, 0] # red patch in upper left\n",
        "\n",
        "plt.imshow(data2, interpolation='nearest')\n",
        "plt.show()"
      ],
      "execution_count": 8,
      "outputs": [
        {
          "output_type": "display_data",
          "data": {
            "image/png": "[encoded data removed]",
            "text/plain": [
              "<Figure size 432x288 with 1 Axes>"
            ]
          },
          "metadata": {
            "tags": [],
            "needs_background": "light"
          }
        }
      ]
    },
    {
      "cell_type": "markdown",
      "metadata": {
        "id": "-cCXO9RV58A9"
      },
      "source": [
        "# Integraal berekenen mbv Monte Carlo simulatie"
      ]
    },
    {
      "cell_type": "markdown",
      "metadata": {
        "id": "DyW1OFh86BYU"
      },
      "source": [
        "# Oefening 1"
      ]
    },
    {
      "cell_type": "code",
      "metadata": {
        "colab": {
          "base_uri": "https://localhost:8080/",
          "height": 265
        },
        "id": "HOkWBbKMOjBs",
        "outputId": "03bd8f44-15a6-4a7c-da64-c65ce5466ed5"
      },
      "source": [
        "fig, ax = plt.subplots()\n",
        "x = np.linspace(0,1,10)\n",
        "ax.plot(x, x**2, 'r-')\n",
        "ax.axhline(y=0)\n",
        "ax.axvline(x=1)\n",
        "ax.grid(True)"
      ],
      "execution_count": 35,
      "outputs": [
        {
          "output_type": "display_data",
          "data": {
            "image/png": "[encoded data removed]",
            "text/plain": [
              "<Figure size 432x288 with 1 Axes>"
            ]
          },
          "metadata": {
            "tags": [],
            "needs_background": "light"
          }
        }
      ]
    },
    {
      "cell_type": "code",
      "metadata": {
        "id": "wbvKZxOh3hDX"
      },
      "source": [
        "oppervlakte = 0"
      ],
      "execution_count": 38,
      "outputs": []
    },
    {
      "cell_type": "code",
      "metadata": {
        "id": "TJlk4LiKOi7p"
      },
      "source": [
        "for i in range(500):\n",
        "  x, y = np.random.uniform() , np.random.uniform()\n",
        "  #print(x, y)\n",
        "  if y > x**2:\n",
        "    ax.plot(x, y, 'g.')\n",
        "  else:\n",
        "    oppervlakte = oppervlakte + 1\n",
        "    ax.plot(x, y, 'b.')"
      ],
      "execution_count": 43,
      "outputs": []
    },
    {
      "cell_type": "code",
      "metadata": {
        "colab": {
          "base_uri": "https://localhost:8080/",
          "height": 265
        },
        "id": "MD4VjemgOi3P",
        "outputId": "97268db7-816a-403a-9739-c40429f6d330"
      },
      "source": [
        "fig"
      ],
      "execution_count": 44,
      "outputs": [
        {
          "output_type": "execute_result",
          "data": {
            "image/png": "[encoded data removed]",
            "text/plain": [
              "<Figure size 432x288 with 1 Axes>"
            ]
          },
          "metadata": {
            "tags": []
          },
          "execution_count": 44
        }
      ]
    },
    {
      "cell_type": "code",
      "metadata": {
        "colab": {
          "base_uri": "https://localhost:8080/"
        },
        "id": "RYPC7JgpOiue",
        "outputId": "bf6e5784-7cd2-4bfa-b9fa-52a9567e6d32"
      },
      "source": [
        "oppervlakte/500"
      ],
      "execution_count": 45,
      "outputs": [
        {
          "output_type": "execute_result",
          "data": {
            "text/plain": [
              "0.318"
            ]
          },
          "metadata": {
            "tags": []
          },
          "execution_count": 45
        }
      ]
    },
    {
      "cell_type": "markdown",
      "metadata": {
        "id": "XkKivVWw6HB2"
      },
      "source": [
        "# Oefening 2"
      ]
    },
    {
      "cell_type": "code",
      "metadata": {
        "colab": {
          "base_uri": "https://localhost:8080/",
          "height": 265
        },
        "id": "iTiMwmru6FZp",
        "outputId": "003029db-33d6-4df7-d627-de994f8240e9"
      },
      "source": [
        "fig, ax = plt.subplots()\n",
        "x = np.linspace(-2,2,40)\n",
        "y = -x**2 + 2\n",
        "ax.plot(x, y, 'r-')\n",
        "ax.axhline(y=0)\n",
        "ax.axvline(x=0)\n",
        "ax.grid(True)"
      ],
      "execution_count": 64,
      "outputs": [
        {
          "output_type": "display_data",
          "data": {
            "image/png": "[encoded data removed]",
            "text/plain": [
              "<Figure size 432x288 with 1 Axes>"
            ]
          },
          "metadata": {
            "tags": [],
            "needs_background": "light"
          }
        }
      ]
    },
    {
      "cell_type": "code",
      "metadata": {
        "id": "VlNiXW-55q02"
      },
      "source": [
        "#ax.fill_between(x, 0, y)"
      ],
      "execution_count": 52,
      "outputs": []
    },
    {
      "cell_type": "code",
      "metadata": {
        "colab": {
          "base_uri": "https://localhost:8080/",
          "height": 265
        },
        "id": "rH3YT7Sw5qpJ",
        "outputId": "27d6c31a-bfe9-4682-baf4-c085e08b5e16"
      },
      "source": [
        "fig"
      ],
      "execution_count": 55,
      "outputs": [
        {
          "output_type": "execute_result",
          "data": {
            "image/png": "[encoded data removed]",
            "text/plain": [
              "<Figure size 432x288 with 1 Axes>"
            ]
          },
          "metadata": {
            "tags": []
          },
          "execution_count": 55
        }
      ]
    },
    {
      "cell_type": "code",
      "metadata": {
        "id": "CrTGKcy67UNG"
      },
      "source": [
        "oppervlakte = 0\n",
        "for i in range(50):\n",
        "  x1, y1 = 2*np.sqrt(2)*np.random.uniform() - np.sqrt(2)  , 2*np.random.uniform()\n",
        "  #print(x1, y1)\n",
        "  if y1 > -x1**2 + 2:\n",
        "    ax.plot(x1, y1, 'g.')\n",
        "  else:\n",
        "    oppervlakte = oppervlakte + 1\n",
        "    ax.plot(x1, y1, 'b.')"
      ],
      "execution_count": 68,
      "outputs": []
    },
    {
      "cell_type": "code",
      "metadata": {
        "colab": {
          "base_uri": "https://localhost:8080/",
          "height": 265
        },
        "id": "1DdxgrgT7UFG",
        "outputId": "87f82dfd-0767-435e-f8e3-38256bc86b82"
      },
      "source": [
        "fig"
      ],
      "execution_count": 69,
      "outputs": [
        {
          "output_type": "execute_result",
          "data": {
            "image/png": "[encoded data removed]",
            "text/plain": [
              "<Figure size 432x288 with 1 Axes>"
            ]
          },
          "metadata": {
            "tags": []
          },
          "execution_count": 69
        }
      ]
    },
    {
      "cell_type": "code",
      "metadata": {
        "colab": {
          "base_uri": "https://localhost:8080/"
        },
        "id": "LGNFC_D97T66",
        "outputId": "f285cb9e-3241-4edb-c01e-fee93c2be9a7"
      },
      "source": [
        "2*2*np.sqrt(2)*oppervlakte/500 "
      ],
      "execution_count": 70,
      "outputs": [
        {
          "output_type": "execute_result",
          "data": {
            "text/plain": [
              "0.3846660889654819"
            ]
          },
          "metadata": {
            "tags": []
          },
          "execution_count": 70
        }
      ]
    },
    {
      "cell_type": "code",
      "metadata": {
        "id": "xQlPBudx9aHF"
      },
      "source": [
        ""
      ],
      "execution_count": null,
      "outputs": []
    },
    {
      "cell_type": "code",
      "metadata": {
        "id": "Ric70slY9aEE"
      },
      "source": [
        ""
      ],
      "execution_count": null,
      "outputs": []
    },
    {
      "cell_type": "code",
      "metadata": {
        "id": "DNNGvhfS9aBC"
      },
      "source": [
        ""
      ],
      "execution_count": null,
      "outputs": []
    },
    {
      "cell_type": "code",
      "metadata": {
        "id": "thhLoyBt9Z-B"
      },
      "source": [
        ""
      ],
      "execution_count": null,
      "outputs": []
    },
    {
      "cell_type": "code",
      "metadata": {
        "id": "Zog5ouoB9Z6g"
      },
      "source": [
        ""
      ],
      "execution_count": null,
      "outputs": []
    },
    {
      "cell_type": "code",
      "metadata": {
        "id": "z6jx-pwS9Z3Z"
      },
      "source": [
        ""
      ],
      "execution_count": null,
      "outputs": []
    },
    {
      "cell_type": "markdown",
      "metadata": {
        "id": "Lm3b9lrx460I"
      },
      "source": [
        "- $f(x) = -x^2 + 2$\n",
        "- $f(x) =  (x-1).(x+2).(x-3)$"
      ]
    },
    {
      "cell_type": "code",
      "metadata": {
        "id": "zAYKc2c2Oikk"
      },
      "source": [
        ""
      ],
      "execution_count": null,
      "outputs": []
    },
    {
      "cell_type": "code",
      "metadata": {
        "id": "9n67vUXFxObn"
      },
      "source": [
        ""
      ],
      "execution_count": null,
      "outputs": []
    },
    {
      "cell_type": "markdown",
      "metadata": {
        "id": "v_0Cemdo3yjl"
      },
      "source": [
        "# Varia"
      ]
    },
    {
      "cell_type": "code",
      "metadata": {
        "id": "Qgl4txCS1Iks"
      },
      "source": [
        "# load image\n",
        "yinyang = plt.imread('/content/drive/My Drive/Colab Notebooks/STEM/2020-2021/Stem_6/yin-yang.png')\n"
      ],
      "execution_count": null,
      "outputs": []
    },
    {
      "cell_type": "code",
      "metadata": {
        "colab": {
          "base_uri": "https://localhost:8080/"
        },
        "id": "w0cTYhQS4v02",
        "outputId": "f0b95a90-b842-4861-dac3-afc9d12e9be9"
      },
      "source": [
        "yinyang = Image.open('/content/drive/My Drive/Colab Notebooks/STEM/2020-2021/Stem_6/yin-yang.png') \n",
        "  \n",
        "# summarize some details about the image \n",
        "print(image.format) \n",
        "print(image.size) \n",
        "print(image.mode)"
      ],
      "execution_count": null,
      "outputs": [
        {
          "output_type": "stream",
          "text": [
            "PNG\n",
            "(350, 350)\n",
            "RGBA\n"
          ],
          "name": "stdout"
        }
      ]
    },
    {
      "cell_type": "code",
      "metadata": {
        "id": "6Su5Aizn6JkT"
      },
      "source": [
        "numpydata = np.asarray(yinyang) "
      ],
      "execution_count": null,
      "outputs": []
    },
    {
      "cell_type": "code",
      "metadata": {
        "colab": {
          "base_uri": "https://localhost:8080/"
        },
        "id": "QDxf6I4z6JZ0",
        "outputId": "f2f3fbe8-965a-437c-c370-b73107f009a6"
      },
      "source": [
        "numpydata.shape"
      ],
      "execution_count": null,
      "outputs": [
        {
          "output_type": "execute_result",
          "data": {
            "text/plain": [
              "(350, 350, 4)"
            ]
          },
          "metadata": {
            "tags": []
          },
          "execution_count": 16
        }
      ]
    },
    {
      "cell_type": "code",
      "metadata": {
        "colab": {
          "base_uri": "https://localhost:8080/"
        },
        "id": "V3YypEf76WQd",
        "outputId": "a3ec9f0f-4f12-4f45-da89-e8797d0a5bb6"
      },
      "source": [
        "square = Image.open('/content/drive/My Drive/Colab Notebooks/STEM/2020-2021/Stem_6/square.png') \n",
        "# summarize some details about the image \n",
        "print(square.format) \n",
        "print(square.size) \n",
        "print(square.mode)"
      ],
      "execution_count": 22,
      "outputs": [
        {
          "output_type": "stream",
          "text": [
            "PNG\n",
            "(20, 20)\n",
            "RGBA\n"
          ],
          "name": "stdout"
        }
      ]
    },
    {
      "cell_type": "code",
      "metadata": {
        "id": "2MyGsCFsvLaS"
      },
      "source": [
        ""
      ],
      "execution_count": null,
      "outputs": []
    },
    {
      "cell_type": "code",
      "metadata": {
        "id": "Y82oKyn_vLTh"
      },
      "source": [
        ""
      ],
      "execution_count": null,
      "outputs": []
    },
    {
      "cell_type": "code",
      "metadata": {
        "id": "YXEjMb02vLJl"
      },
      "source": [
        ""
      ],
      "execution_count": null,
      "outputs": []
    },
    {
      "cell_type": "code",
      "metadata": {
        "id": "pZnbX84ZVImn"
      },
      "source": [
        ""
      ],
      "execution_count": null,
      "outputs": []
    }
  ]
}
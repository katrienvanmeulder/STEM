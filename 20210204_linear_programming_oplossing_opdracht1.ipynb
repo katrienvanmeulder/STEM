{
  "nbformat": 4,
  "nbformat_minor": 0,
  "metadata": {
    "colab": {
      "name": "20210204_linear_programming_oplossing_opdracht1.ipynb",
      "provenance": [],
      "collapsed_sections": [],
      "authorship_tag": "ABX9TyOn35o+fkItLnIEzgvzkhX/",
      "include_colab_link": true
    },
    "kernelspec": {
      "name": "python3",
      "display_name": "Python 3"
    }
  },
  "cells": [
    {
      "cell_type": "markdown",
      "metadata": {
        "id": "view-in-github",
        "colab_type": "text"
      },
      "source": [
        "<a href=\"https://colab.research.google.com/github/katrienvanmeulder/STEM6/blob/master/20210204_linear_programming_oplossing_opdracht1.ipynb\" target=\"_parent\"><img src=\"https://colab.research.google.com/assets/colab-badge.svg\" alt=\"Open In Colab\"/></a>"
      ]
    },
    {
      "cell_type": "markdown",
      "metadata": {
        "id": "QQcKCq1Q5vAP"
      },
      "source": [
        "###################################################\n",
        "## Opdracht 1 : probleem ivm middelen\n",
        "###################################################\n",
        "\n",
        "\n",
        "- We adviseren een fabrikant die luxe auto's produceert.\n",
        "\n",
        "- Ze draaien op cycli van één maand (30 dagen), we hebben één cyclus de tijd om te laten zien dat we meerwaarde kunnen bieden.\n",
        "\n",
        "- Er zijn één robot, 2 ingenieurs en één afwerker in de fabriek. De afwerker heeft wat vakantie, en is dus maar 21 dagen beschikbaar.\n",
        "\n",
        "- De 2 verschillende auto modellen (A en B) hebben een andere tijd nodig wat middelen (robot, ingenieur en afwerker) betreft:\n",
        "\n",
        "- Robottijd: \n",
        "\n",
        "  - auto A - 3 dagen; \n",
        "  - Auto B - 4 dagen.\n",
        "\n",
        "- Ingenieur tijd: \n",
        "  - auto A - 5 dagen; \n",
        "  - Auto B - 6 dagen.\n",
        "\n",
        "- Afwerker tijd: \n",
        "  - auto A - 1,5 dagen; \n",
        "  - Auto B - 3 dagen.\n",
        "\n",
        "- Auto A levert € 30.000 winst op, terwijl auto B € 45.000 winst biedt.\n",
        "\n",
        "- Op dit ogenblik produceren ze 4 auto's van elk model per maand, goed voor een winst van € 300.000. Niet slecht maar we denken dat we beter kunnen. Toon dit aan!"
      ]
    },
    {
      "cell_type": "markdown",
      "metadata": {
        "id": "lCG3CpBLBlxq"
      },
      "source": [
        "\n",
        "################################################### \n",
        "\n",
        "###################################################\n",
        "\n",
        "\n",
        "\n",
        "\n",
        "-    ### Schrijf hieronder de te maximaliseren functie op</font>\n",
        "\n",
        "  - X = aantal geproduceerde auto's van model A\n",
        "  - Y = aantal geproduceerde auto's van model B\n",
        "  - $$ 30.000 X + 45.000 Y$$\n",
        "\n",
        "-   ### Noteer hieronder met welke constraints (beperkingen) er rekening gehouden dient te worden:\n",
        "\n",
        "$$\n",
        "\\begin{matrix}\n",
        "3X  + 4Y \\leq 30 \\\\\n",
        "5X + 6Y \\leq 60 \\\\\n",
        "1.5 X + 3Y \\leq 21 \\\\\n",
        "X &\\geq 0 \\\\\n",
        "Y &\\geq 0  \n",
        "\\end{matrix}\n",
        "$$\n",
        "\n",
        "\n",
        "\n",
        "###################################################\n",
        "###################################################\n",
        "\n"
      ]
    },
    {
      "cell_type": "code",
      "metadata": {
        "id": "yFdso9mMDXTA",
        "colab": {
          "base_uri": "https://localhost:8080/",
          "height": 518
        },
        "outputId": "bfc66f53-8783-42ff-a276-65d2d3373b7f"
      },
      "source": [
        "###############################################################################\n",
        "# pas onderstaande code aan om de constraints (beperkingen) te visualiseren\n",
        "###############################################################################\n",
        "\n",
        "import matplotlib.pyplot as plt\n",
        "import numpy as np\n",
        "\n",
        "# Construct lines\n",
        "# x >= 0\n",
        "x = np.linspace(0, 20, 200)\n",
        "# y >= 0\n",
        "y1 = 0*x + 0\n",
        "# 4y <= (30 - 3x)\n",
        "y2 = (30 - 3*x)/4.0\n",
        "# 6y <= 60 - 5x\n",
        "y3 = (60 - 5*x)/6.0\n",
        "# 3y <= 21 - 1.5*x\n",
        "y4 = (21 - 1.5*x)/3.0\n",
        "\n",
        "fig, ax = plt.subplots(figsize=(10,8))\n",
        "# Make plot\n",
        "plt.plot(x, y1, color = 'green' , label=r'$y_1\\geq0$')\n",
        "plt.plot(x, y2, color= 'blue', label=r'$4y_2\\leq 30 - 3x$')\n",
        "plt.plot(x, y3, color = 'red', label=r'$6y_3\\leq 60 - 5x$')\n",
        "plt.plot(x, y4, color = 'yellow',label=r'$3y_4\\leq 21 - 1.5x$')\n",
        "\n",
        "plt.xlim((0, 20))\n",
        "plt.ylim((-2, 10))\n",
        "plt.xlabel(r'$x$')\n",
        "plt.ylabel(r'$y$')\n",
        "\n",
        "ax.grid(True)\n",
        "\n",
        "# Fill feasible region\n",
        "y5 = np.minimum(np.minimum(y4, y2), y3)\n",
        "#y6 = np.maximum(y1, y3)\n",
        "plt.fill_between(x, y5, y1, where=y5>y1, color='grey', alpha=0.3)\n",
        "plt.legend(bbox_to_anchor=(1.05, 1), loc=2, borderaxespad=0.)"
      ],
      "execution_count": null,
      "outputs": [
        {
          "output_type": "execute_result",
          "data": {
            "text/plain": [
              "<matplotlib.legend.Legend at 0x7fac5b065e80>"
            ]
          },
          "metadata": {
            "tags": []
          },
          "execution_count": 9
        },
        {
          "output_type": "display_data",
          "data": {
            "image/png": "[encoded data removed]",
            "text/plain": [
              "<Figure size 720x576 with 1 Axes>"
            ]
          },
          "metadata": {
            "tags": [],
            "needs_background": "light"
          }
        }
      ]
    },
    {
      "cell_type": "code",
      "metadata": {
        "colab": {
          "base_uri": "https://localhost:8080/"
        },
        "id": "HdctucSdZl5t",
        "outputId": "a3e0dca9-3ca7-456a-ca1a-701b16782fa1"
      },
      "source": [
        "!pip install pulp\r\n"
      ],
      "execution_count": null,
      "outputs": [
        {
          "output_type": "stream",
          "text": [
            "Collecting pulp\n",
            "\u001b[?25l  Downloading https://files.pythonhosted.org/packages/14/c4/0eec14a0123209c261de6ff154ef3be5cad3fd557c084f468356662e0585/PuLP-2.4-py3-none-any.whl (40.6MB)\n",
            "\u001b[K     |████████████████████████████████| 40.6MB 105kB/s \n",
            "\u001b[?25hCollecting amply>=0.1.2\n",
            "  Downloading https://files.pythonhosted.org/packages/f3/c5/dfa09dd2595a2ab2ab4e6fa7bebef9565812722e1980d04b0edce5032066/amply-0.1.4-py3-none-any.whl\n",
            "Requirement already satisfied: pyparsing in /usr/local/lib/python3.6/dist-packages (from amply>=0.1.2->pulp) (2.4.7)\n",
            "Requirement already satisfied: docutils>=0.3 in /usr/local/lib/python3.6/dist-packages (from amply>=0.1.2->pulp) (0.16)\n",
            "Installing collected packages: amply, pulp\n",
            "Successfully installed amply-0.1.4 pulp-2.4\n"
          ],
          "name": "stdout"
        }
      ]
    },
    {
      "cell_type": "code",
      "metadata": {
        "id": "m56zNarmArPA",
        "colab": {
          "base_uri": "https://localhost:8080/"
        },
        "outputId": "5830a48c-8a68-457d-c542-508646b5bbdb"
      },
      "source": [
        "###############################################################################\n",
        "# pas onderstaande code aan om de oplossing te berekenen\n",
        "###############################################################################\n",
        "\n",
        "import pulp\n",
        "\n",
        "my_lp_problem = pulp.LpProblem(\"My LP Problem\", pulp.LpMaximize)\n",
        "\n",
        "x = pulp.LpVariable('x', lowBound=0, cat='Continuous')\n",
        "y = pulp.LpVariable('y', lowBound=0, cat='Continuous')\n",
        "\n",
        "# Objective function\n",
        "my_lp_problem +=  30000*x + 45000*y, \"Z\"\n",
        "\n",
        "# Constraints\n",
        "my_lp_problem += 4*y <= 30 - 3*x\n",
        "my_lp_problem += 6 * y <= 60 - 5*x\n",
        "my_lp_problem += 3 * y <= 21 - 1.5*x\n"
      ],
      "execution_count": null,
      "outputs": [
        {
          "output_type": "stream",
          "text": [
            "/usr/local/lib/python3.6/dist-packages/pulp/pulp.py:1199: UserWarning: Spaces are not permitted in the name. Converted to '_'\n",
            "  warnings.warn(\"Spaces are not permitted in the name. Converted to '_'\")\n"
          ],
          "name": "stderr"
        }
      ]
    },
    {
      "cell_type": "code",
      "metadata": {
        "colab": {
          "base_uri": "https://localhost:8080/"
        },
        "id": "avv8WFjmZ0iK",
        "outputId": "9678cb82-b523-484b-d158-df0e6b3271a5"
      },
      "source": [
        "my_lp_problem"
      ],
      "execution_count": null,
      "outputs": [
        {
          "output_type": "execute_result",
          "data": {
            "text/plain": [
              "My_LP_Problem:\n",
              "MAXIMIZE\n",
              "30000*x + 45000*y + 0\n",
              "SUBJECT TO\n",
              "_C1: 3 x + 4 y <= 30\n",
              "\n",
              "_C2: 5 x + 6 y <= 60\n",
              "\n",
              "_C3: 1.5 x + 3 y <= 21\n",
              "\n",
              "VARIABLES\n",
              "x Continuous\n",
              "y Continuous"
            ]
          },
          "metadata": {
            "tags": []
          },
          "execution_count": 13
        }
      ]
    },
    {
      "cell_type": "code",
      "metadata": {
        "colab": {
          "base_uri": "https://localhost:8080/"
        },
        "id": "0GgKp1C9Zzj_",
        "outputId": "e5c0186f-b9b3-478b-8a08-c648bca3d48a"
      },
      "source": [
        "my_lp_problem.solve()\n",
        "for variable in my_lp_problem.variables():\n",
        "    print(variable.name, variable.varValue)"
      ],
      "execution_count": null,
      "outputs": [
        {
          "output_type": "stream",
          "text": [
            "x 2.0\n",
            "y 6.0\n"
          ],
          "name": "stdout"
        }
      ]
    },
    {
      "cell_type": "markdown",
      "metadata": {
        "id": "j97VuYJbD4B9"
      },
      "source": [
        "\n",
        "---\n",
        "---\n",
        "## Opdracht 2: \n",
        "\n",
        "\n",
        "\n",
        "\n",
        "\n",
        "- Stel dat een boer een stuk landbouwgrond heeft, zeg 100 $km^2$, om te beplanten met tarwe of gerst of een combinatie van beide.\n",
        "- De boer heeft een beperkte hoeveelheid kunstmest en pesticide, respectievelijk 600 en 500 kilogram.\n",
        "- Voor elke vierkante kilometer tarwe is 8 kilo kunstmest en 5 kilo pesticide nodig, terwijl voor elke vierkante kilometer gerst 3 kilo kunstmest en 6 kilo pesticide nodig is.\n",
        "- Stel dat 100 Euro de verkoopprijs van tarwe per vierkante kilometer is en 80 Euro de verkoopprijs van gerst.\n",
        "- Als we het met tarwe en gerst beplante oppervlak met respectievelijk $x$ en $y$ aangeven, kan de winst worden gemaximaliseerd door optimale waarden voor $x$ en $y$ te kiezen.\n",
        "\n",
        "- Zelfde opdrachten als bij oefening 1\n",
        "\n",
        "  - Schrijf de te maximaliseren functie neer, alsook de beperkingen waar rekening mee gehouden dient te worden\n",
        "  - Maak een schets van de constraints (beperkingen)\n",
        "  - Ga op zoek naar de optimale oplossing\n",
        "\n"
      ]
    },
    {
      "cell_type": "code",
      "metadata": {
        "id": "VpALUd4jiPh0"
      },
      "source": [
        ""
      ],
      "execution_count": null,
      "outputs": []
    }
  ]
}
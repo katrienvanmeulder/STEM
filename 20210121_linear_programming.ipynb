{
  "nbformat": 4,
  "nbformat_minor": 0,
  "metadata": {
    "colab": {
      "name": "20210121_linear_programming.ipynb",
      "provenance": [],
      "collapsed_sections": [],
      "authorship_tag": "ABX9TyMyXYB+loNyMPCGxaY4lXHU",
      "include_colab_link": true
    },
    "kernelspec": {
      "name": "python3",
      "display_name": "Python 3"
    }
  },
  "cells": [
    {
      "cell_type": "markdown",
      "metadata": {
        "id": "view-in-github",
        "colab_type": "text"
      },
      "source": [
        "<a href=\"https://colab.research.google.com/github/katrienvanmeulder/STEM6/blob/master/20210121_linear_programming.ipynb\" target=\"_parent\"><img src=\"https://colab.research.google.com/assets/colab-badge.svg\" alt=\"Open In Colab\"/></a>"
      ]
    },
    {
      "cell_type": "code",
      "metadata": {
        "id": "0p8qUUGPEdSC"
      },
      "source": [
        "from scipy.optimize import linprog\n",
        "import matplotlib.pyplot as plt\n",
        "import numpy as np"
      ],
      "execution_count": null,
      "outputs": []
    },
    {
      "cell_type": "markdown",
      "metadata": {
        "id": "X0QT-jbOy2He"
      },
      "source": [
        "#######################################\n",
        "## Linear programming\n",
        "#######################################\n",
        "\n",
        "- Voor het eerst toegepast bij de luchtbrug naar Berlijn tijdens WO II\n",
        "- https://www.youtube.com/watch?v=STbGYfFmp_c\n"
      ]
    },
    {
      "cell_type": "markdown",
      "metadata": {
        "id": "qv0JZvzkRLw2"
      },
      "source": [
        "#######################################\n",
        "## Berlijnse luchtbrug:\n",
        "#######################################\n",
        "\n",
        "- Doel is om zoveel mogelijk goederen per week te transporteren naar het belegerde Berlijn.\n",
        "\n",
        "\n",
        "\n",
        "---\n",
        "\n",
        "\n",
        "- Er zijn maximaal $44$ vliegtuigen ter beschikking\n",
        "- Totale kost per week mag $\\$$ $ 300.000$  niet overschrijden\n",
        "- Er zijn maximaal 512 strijdkrachten ter beschikking.\n",
        "- Nodige bemanningsleden voor een :\n",
        "  - Amerikaans vliegtuig is $16$\n",
        "  - Brits vliegtuig is $8$\n",
        "- Capaciteit van:\n",
        "  - een Amerikaans vliegtuig is $30.000 \\,m^3$\n",
        "  - een Brits vliegtuig is $20.000 \\, m^3$\n",
        "\n",
        "- Kost van een vlucht: \n",
        "\n",
        "  - Amerikaans vliegtuig is $\\$$ $9000$\n",
        "  - Brits vliegtuig is $\\$$ $5000$\n",
        "\n",
        "---\n",
        "\n",
        "- Als we ervan uitgaan dat:\n",
        "  -  $Y$ het aantal Amerikaanse vliegtuigen zijn\n",
        "  -  $X$ het aantal  Britse vliegtuigen zijn\n",
        "  dan resulteert dit in de volgende vergelijkingen:\n",
        "- Maximaliseer: \n",
        "$$\n",
        "P = 30.000 X + 20.000 Y\n",
        "$$\n",
        "- Rekening houdend met:\n",
        "\n",
        "$$\n",
        "\\begin{matrix}\n",
        "X + Y &\\leq 44 \\\\\n",
        "16X + 8 Y &\\leq 512 \\\\\n",
        "9000X + 5000Y &\\leq 300.000 \\\\\n",
        "X &\\geq 0 \\\\\n",
        "Y &\\geq 0    \n",
        "\\end{matrix}\n",
        "$$\n"
      ]
    },
    {
      "cell_type": "markdown",
      "metadata": {
        "id": "jRngBxoiVYBw"
      },
      "source": [
        "# Intermezzo"
      ]
    },
    {
      "cell_type": "markdown",
      "metadata": {
        "id": "NbVOazUKSv3k"
      },
      "source": [
        "#######################################\n",
        "## Opdracht1 : Parametervergelijking\n",
        "#######################################\n",
        "\n",
        "\n",
        "1.   \n",
        "  - Gegeven $x = a_1 + \\lambda (a_2 - a_1) = (1-\\lambda)a_1 + \\lambda a_2$ waarbij $ \\lambda \\in \\mathbf{R}$ en $a_1, a_2 \\in \\mathbf{R}$.\n",
        "  - Voorbeeld $x = 3 +\\lambda (5-3) $ met $\\lambda \\in \\mathbf{R}$\n",
        "  - Gevraagd: welke waarden kan $x$ aannemen?\n",
        "\n",
        "2.   \n",
        "  - Gegeven: $x = a_1 + \\lambda (a_2 - a_1) = (1-\\lambda)a_1 + \\lambda a_2$ waarbij $ \\lambda \\in [0,1]$ en $a_1, a_2 \\in \\mathbf{R}$ \n",
        "   - Voorbeeld $x = 3 +\\lambda (5-3) $ met $\\lambda \\in [0,1]$\n",
        "  - Gevraagd: welke waarden kan $x$ aannemen?\n",
        "\n",
        "\n",
        "\n"
      ]
    },
    {
      "cell_type": "code",
      "metadata": {
        "id": "z5tyiRK7klXX"
      },
      "source": [
        "# oplossing opdracht 1\n",
        "\n",
        "\n",
        "\n",
        "\n",
        "\n",
        "\n",
        "\n",
        "\n",
        "\n",
        "\n"
      ],
      "execution_count": null,
      "outputs": []
    },
    {
      "cell_type": "markdown",
      "metadata": {
        "id": "IIEq7XbXLYgy"
      },
      "source": [
        "#######################################\n",
        "## Opdracht2 : Parametervergelijking\n",
        "#######################################\n",
        "\n",
        "\n",
        "1.   Zelfde opdracht als opdracht1 met dat verschil dat \n",
        "$a_1, a_2 \\in \\mathbf{R}^2$, dus $a_1$ en $a_2$ zijn 2 willekeurige punten in het vlak. Zeg $a_1 = (1, 2)$ en $a_2 = (3, 5)$ en $\\lambda \\in [0,1]$\n",
        "2.   De vergelijking wordt dan:\n",
        "$$\n",
        "(x, y) = (1-\\lambda )(1,2) + \\lambda(3,5)\n",
        "$$\n",
        "of nog\n",
        "$$\n",
        "\\begin{matrix}\n",
        "x &= (1-\\lambda) + \\lambda 3 \\\\\n",
        "y &= (1-\\lambda)2 + \\lambda 5 \\\\\n",
        "\\end{matrix}\n",
        "$$\n",
        "\n"
      ]
    },
    {
      "cell_type": "code",
      "metadata": {
        "id": "Nvy_QsqxfZZl"
      },
      "source": [
        "# oplossing opdracht 2\n",
        "\n",
        "\n",
        "\n",
        "\n",
        "\n",
        "\n",
        "\n",
        "\n",
        "\n"
      ],
      "execution_count": 24,
      "outputs": []
    },
    {
      "cell_type": "markdown",
      "metadata": {
        "id": "L0EXjX4ePk73"
      },
      "source": [
        "#######################################\n",
        "## Opdracht3 : Parametervergelijking\n",
        "#######################################\n",
        "\n",
        "\n",
        "- Neem 3 verschillende punten in het vlak $P_1=(x_1, y_1), P_2 =(x_2, y_2)$ en $P_3 = (x_3, y_3)$\n",
        "- Bepaal de meetkundige plaats van $\\alpha P_1 + \\beta P_2 + \\gamma P_3$ wanneer\n",
        "$\\alpha + \\beta + \\gamma = 1$\n"
      ]
    },
    {
      "cell_type": "code",
      "metadata": {
        "id": "MsfVS0e-keEe"
      },
      "source": [
        "# oplossing opdracht 3\n",
        "\n",
        "\n",
        "\n",
        "\n",
        "\n",
        "\n",
        "\n",
        "\n",
        "\n",
        "\n",
        "\n",
        "\n",
        "\n"
      ],
      "execution_count": null,
      "outputs": []
    },
    {
      "cell_type": "markdown",
      "metadata": {
        "id": "s43setEe50SP"
      },
      "source": [
        "# Voorbeeld 1 (theoretisch)\n",
        "\n",
        "Stel dat je de volgende functie wil maximaliseren:\n",
        "\n",
        "$$\n",
        "z = 4x+ 3y \n",
        "$$\n",
        "\n",
        "\n",
        "---\n",
        "\n",
        "\n",
        "- rekening houdend met:\n",
        "$$\n",
        "\\begin{matrix}\n",
        "2y &\\leq 25-x \\\\\n",
        "4y &\\geq 2x-8 \\\\\n",
        "y &\\leq 2x- 5 \\\\\n",
        "x &\\geq 0 \\\\\n",
        "y &\\geq 2    \n",
        "\\end{matrix}\n",
        "$$"
      ]
    },
    {
      "cell_type": "code",
      "metadata": {
        "colab": {
          "base_uri": "https://localhost:8080/",
          "height": 518
        },
        "id": "VryaGrlV6VUN",
        "outputId": "0d541fcf-c3c0-4097-8f83-c39e8db874c5"
      },
      "source": [
        "# Construct lines\n",
        "# x >= 0\n",
        "x = np.linspace(0, 20, 200)\n",
        "# y >= 2\n",
        "y1 = 0*x + 2\n",
        "# 2y <= 25 - x\n",
        "y2 = (25 - x)/2.0\n",
        "# 4y >= 2x-8\n",
        "y3 = (2*x - 8)/4.0\n",
        "# y <= 2x - 5\n",
        "y4 = 2*x - 5\n",
        "\n",
        "fig, ax = plt.subplots(figsize=(10,8))\n",
        "# Make plot\n",
        "plt.plot(x, y1, color = 'green' , label=r'$y_1\\geq2$')\n",
        "plt.plot(x, y2, color= 'blue', label=r'$2y_2\\leq 25 - x$')\n",
        "plt.plot(x, y3, color = 'red', label=r'$4y_3\\geq 2x - 8$')\n",
        "plt.plot(x, y4, color = 'yellow',label=r'$y_4\\leq 2x - 5$')\n",
        "\n",
        "plt.xlim((0, 20))\n",
        "plt.ylim((-2, 10))\n",
        "plt.xlabel(r'$x$')\n",
        "plt.ylabel(r'$y$')\n",
        "\n",
        "ax.grid(True)\n",
        "\n",
        "# Fill feasible region\n",
        "y5 = np.minimum(y2, y4)\n",
        "y6 = np.maximum(y1, y3)\n",
        "plt.fill_between(x, y5, y6, where=y5>y6, color='grey', alpha=0.3)\n",
        "plt.legend(bbox_to_anchor=(1.05, 1), loc=2, borderaxespad=0.)"
      ],
      "execution_count": null,
      "outputs": [
        {
          "output_type": "execute_result",
          "data": {
            "text/plain": [
              "<matplotlib.legend.Legend at 0x7facba198ac8>"
            ]
          },
          "metadata": {
            "tags": []
          },
          "execution_count": 20
        },
        {
          "output_type": "display_data",
          "data": {
            "image/png": "[encoded data removed]",
            "text/plain": [
              "<Figure size 720x576 with 1 Axes>"
            ]
          },
          "metadata": {
            "tags": [],
            "needs_background": "light"
          }
        }
      ]
    },
    {
      "cell_type": "markdown",
      "metadata": {
        "id": "CPiSS2O16o2e"
      },
      "source": [
        "# Oplossing\n",
        "\n",
        "- Reken na mbv pen en papier, de grijze zone wordt bepaald door 4 punten:\n",
        "\n",
        "  - Eerste punt (rechtsonder), het snijpunt tussen $y = 2$ en $4y = 2x - 8$\n",
        "  - Tweede punt (rechtsboven), snijpunt tussen $4y = 2x - 8$ en $2y = 25 - x$\n",
        "  - Derde punt (linksboven), snijpunt tussen  $2y = 25 - x$ en $y = 2x - 5$\n",
        "  - Vierde punt (linksonder), snijpunt tussen  $y = 2x - 5$ en $y = 2$\n",
        "\n",
        "- Gebruikmakend van de python library PuLP"
      ]
    },
    {
      "cell_type": "code",
      "metadata": {
        "colab": {
          "base_uri": "https://localhost:8080/"
        },
        "id": "KbvY_FMKU9zC",
        "outputId": "b2d20470-60bb-4dbc-8ac0-80f31c606f87"
      },
      "source": [
        "!pip install pulp"
      ],
      "execution_count": null,
      "outputs": [
        {
          "output_type": "stream",
          "text": [
            "Collecting pulp\n",
            "\u001b[?25l  Downloading https://files.pythonhosted.org/packages/14/c4/0eec14a0123209c261de6ff154ef3be5cad3fd557c084f468356662e0585/PuLP-2.4-py3-none-any.whl (40.6MB)\n",
            "\u001b[K     |████████████████████████████████| 40.6MB 107kB/s \n",
            "\u001b[?25hCollecting amply>=0.1.2\n",
            "  Downloading https://files.pythonhosted.org/packages/f3/c5/dfa09dd2595a2ab2ab4e6fa7bebef9565812722e1980d04b0edce5032066/amply-0.1.4-py3-none-any.whl\n",
            "Requirement already satisfied: docutils>=0.3 in /usr/local/lib/python3.6/dist-packages (from amply>=0.1.2->pulp) (0.16)\n",
            "Requirement already satisfied: pyparsing in /usr/local/lib/python3.6/dist-packages (from amply>=0.1.2->pulp) (2.4.7)\n",
            "Installing collected packages: amply, pulp\n",
            "Successfully installed amply-0.1.4 pulp-2.4\n"
          ],
          "name": "stdout"
        }
      ]
    },
    {
      "cell_type": "code",
      "metadata": {
        "colab": {
          "base_uri": "https://localhost:8080/"
        },
        "id": "4kHQRggx-M-f",
        "outputId": "7b657e16-dafe-41d3-bf5f-04426beaa2aa"
      },
      "source": [
        "import pulp\n",
        "\n",
        "my_lp_problem = pulp.LpProblem(\"My LP Problem\", pulp.LpMaximize)\n",
        "\n",
        "x = pulp.LpVariable('x', lowBound=0, cat='Continuous')\n",
        "y = pulp.LpVariable('y', lowBound=2, cat='Continuous')\n",
        "\n",
        "\n",
        "# Objective function\n",
        "my_lp_problem += 4 * x + 3 * y, \"Z\"\n",
        "\n",
        "# Constraints\n",
        "my_lp_problem += 2 * y <= 25 - x\n",
        "my_lp_problem += 4 * y >= 2 * x - 8\n",
        "my_lp_problem += y <= 2 * x - 5"
      ],
      "execution_count": null,
      "outputs": [
        {
          "output_type": "stream",
          "text": [
            "/usr/local/lib/python3.6/dist-packages/pulp/pulp.py:1199: UserWarning: Spaces are not permitted in the name. Converted to '_'\n",
            "  warnings.warn(\"Spaces are not permitted in the name. Converted to '_'\")\n"
          ],
          "name": "stderr"
        }
      ]
    },
    {
      "cell_type": "code",
      "metadata": {
        "id": "Vba-FZ9F-4GG",
        "colab": {
          "base_uri": "https://localhost:8080/"
        },
        "outputId": "8138c89e-eaf2-42b0-afdf-db5c2f3b57cf"
      },
      "source": [
        "my_lp_problem"
      ],
      "execution_count": null,
      "outputs": [
        {
          "output_type": "execute_result",
          "data": {
            "text/plain": [
              "My_LP_Problem:\n",
              "MAXIMIZE\n",
              "4*x + 3*y + 0\n",
              "SUBJECT TO\n",
              "_C1: x + 2 y <= 25\n",
              "\n",
              "_C2: - 2 x + 4 y >= -8\n",
              "\n",
              "_C3: - 2 x + y <= -5\n",
              "\n",
              "VARIABLES\n",
              "x Continuous\n",
              "2 <= y Continuous"
            ]
          },
          "metadata": {
            "tags": []
          },
          "execution_count": 9
        }
      ]
    },
    {
      "cell_type": "code",
      "metadata": {
        "colab": {
          "base_uri": "https://localhost:8080/"
        },
        "id": "jbLEoxN6VEXi",
        "outputId": "36e1c2c2-c336-4185-95b2-05b977dd2cc4"
      },
      "source": [
        "my_lp_problem.solve()\n",
        "for variable in my_lp_problem.variables():\n",
        "    print(variable.name, variable.varValue)"
      ],
      "execution_count": null,
      "outputs": [
        {
          "output_type": "stream",
          "text": [
            "x 14.5\n",
            "y 5.25\n"
          ],
          "name": "stdout"
        }
      ]
    },
    {
      "cell_type": "markdown",
      "metadata": {
        "id": "Z_qAq697jWms"
      },
      "source": [
        "## Los nu zelf het probleem van de Berlijnse luchtbrug op"
      ]
    },
    {
      "cell_type": "code",
      "metadata": {
        "id": "Sds9AwfsVMxA"
      },
      "source": [
        ""
      ],
      "execution_count": null,
      "outputs": []
    }
  ]
}
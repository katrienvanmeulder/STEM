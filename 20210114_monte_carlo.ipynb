{
  "nbformat": 4,
  "nbformat_minor": 0,
  "metadata": {
    "colab": {
      "name": "20210114_monte_carlo.ipynb",
      "provenance": [],
      "collapsed_sections": [],
      "authorship_tag": "ABX9TyNod4CiFZg3LiQsQgKbErHz",
      "include_colab_link": true
    },
    "kernelspec": {
      "name": "python3",
      "display_name": "Python 3"
    }
  },
  "cells": [
    {
      "cell_type": "markdown",
      "metadata": {
        "id": "view-in-github",
        "colab_type": "text"
      },
      "source": [
        "<a href=\"https://colab.research.google.com/github/katrienvanmeulder/STEM6/blob/master/20210114_monte_carlo.ipynb\" target=\"_parent\"><img src=\"https://colab.research.google.com/assets/colab-badge.svg\" alt=\"Open In Colab\"/></a>"
      ]
    },
    {
      "cell_type": "code",
      "metadata": {
        "id": "opv76F-H3BLB"
      },
      "source": [
        "import matplotlib.pyplot as plt\n",
        "import matplotlib.patches as patches\n",
        "from google.colab import drive\n",
        "from PIL import Image \n",
        "import numpy as np\n",
        "%matplotlib inline \n"
      ],
      "execution_count": 8,
      "outputs": []
    },
    {
      "cell_type": "markdown",
      "metadata": {
        "id": "-cCXO9RV58A9"
      },
      "source": [
        "# Integraal berekenen mbv Monte Carlo simulatie"
      ]
    },
    {
      "cell_type": "markdown",
      "metadata": {
        "id": "DyW1OFh86BYU"
      },
      "source": [
        "# Oefening 1\n",
        "\n",
        "- Bepaal mbv monte carlo simulatie de volgende bepaalde integraal \n",
        "$$\n",
        "\\int_{-3}^{2}(2-x).(𝑥+3) \\,dx\n",
        "$$\n",
        "\n",
        "- Tip, bekijk oefening 1 en 2 van vorige week (20210107_monte_carlo.ipynb op github)\n",
        "\n",
        "# Werkwijze\n",
        "\n",
        "- kies willekeurig punten (maak hiervoor gebruik van de functie np.random.uniform()) in de rode rechthoek (zie grafiek hieronder)\n",
        "- bepaal het percentage van de punten dat in het blauwe gebied ligt\n",
        "- herschaal en geef een benadering voor de bepaalde integraal "
      ]
    },
    {
      "cell_type": "code",
      "metadata": {
        "colab": {
          "base_uri": "https://localhost:8080/",
          "height": 504
        },
        "id": "HOkWBbKMOjBs",
        "outputId": "65b3d93f-e5ac-4996-999e-425d8357d0eb"
      },
      "source": [
        "fig, ax = plt.subplots(figsize=(10,8))\n",
        "x = np.linspace(-4,3,100)\n",
        "def f1(x):\n",
        "  return  (2-x)*(x+3)\n",
        "ax.plot(x, f1(x) , 'r-')\n",
        "\n",
        "ax.axhline(y=0 ,linewidth=2, color = 'g')\n",
        "ax.axvline(x=0, linewidth=2, color = 'g')\n",
        "\n",
        "\n",
        "x1 = np.linspace(-3,2,100)\n",
        "ax.fill_between(x1,f1(x1))\n",
        "rect = patches.Rectangle((-3,0),5,f1(-0.5),linewidth=2,edgecolor='r',facecolor='red', alpha = 0.2)\n",
        "\n",
        "# Add the patch to the Axes\n",
        "ax.add_patch(rect)\n",
        "ax.grid(True)\n",
        "ax.set_ylim(-2, 7)"
      ],
      "execution_count": 24,
      "outputs": [
        {
          "output_type": "execute_result",
          "data": {
            "text/plain": [
              "(-2.0, 7.0)"
            ]
          },
          "metadata": {
            "tags": []
          },
          "execution_count": 24
        },
        {
          "output_type": "display_data",
          "data": {
            "image/png": "[encoded data removed]",
            "text/plain": [
              "<Figure size 720x576 with 1 Axes>"
            ]
          },
          "metadata": {
            "tags": [],
            "needs_background": "light"
          }
        }
      ]
    },
    {
      "cell_type": "code",
      "metadata": {
        "id": "thhLoyBt9Z-B"
      },
      "source": [
        ""
      ],
      "execution_count": null,
      "outputs": []
    }
  ]
}
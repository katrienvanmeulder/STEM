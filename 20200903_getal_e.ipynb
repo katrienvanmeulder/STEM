{
  "nbformat": 4,
  "nbformat_minor": 0,
  "metadata": {
    "colab": {
      "name": "20200903_getal_e.ipynb",
      "provenance": [],
      "collapsed_sections": [],
      "authorship_tag": "ABX9TyNGJrME0ghipFtMKYL4Rjoa",
      "include_colab_link": true
    },
    "kernelspec": {
      "name": "python3",
      "display_name": "Python 3"
    }
  },
  "cells": [
    {
      "cell_type": "markdown",
      "metadata": {
        "id": "view-in-github",
        "colab_type": "text"
      },
      "source": [
        "<a href=\"https://colab.research.google.com/github/katrienvanmeulder/STEM/blob/master/20200903_getal_e.ipynb\" target=\"_parent\"><img src=\"https://colab.research.google.com/assets/colab-badge.svg\" alt=\"Open In Colab\"/></a>"
      ]
    },
    {
      "cell_type": "markdown",
      "metadata": {
        "id": "dAAXA-3FC9vd",
        "colab_type": "text"
      },
      "source": [
        "# Het getal e\n",
        "\n",
        "* https://www.youtube.com/watch?v=AuA2EAgAegE\n",
        "* http://futureprooflearning.be/chapter/functies_exponentiele"
      ]
    },
    {
      "cell_type": "markdown",
      "metadata": {
        "id": "jhbRERU92juU",
        "colab_type": "text"
      },
      "source": [
        "# Opgave 1\n",
        "\n",
        "* Bepaal het getal $e$ gebruikmakend van \n",
        "$$\n",
        "e = \\lim_{n \\rightarrow +\\infty}\\left( 1 + \\frac{1}{n}\\right)^n\n",
        "$$"
      ]
    },
    {
      "cell_type": "markdown",
      "metadata": {
        "id": "x_8XD36t3kPX",
        "colab_type": "text"
      },
      "source": [
        "# Opgave 2\n",
        "\n",
        "* Bepaal het getal $e$  gebruikmakend van \n",
        "$$\n",
        "e = 1 +\\frac{1}{1!} + \\frac{1}{2!} + \\frac{1}{3!} + \\ldots\n",
        "$$"
      ]
    },
    {
      "cell_type": "code",
      "metadata": {
        "id": "PBLjoEbADIrq",
        "colab_type": "code",
        "colab": {
          "base_uri": "https://localhost:8080/",
          "height": 34
        },
        "outputId": "7fa42eb8-01ff-45c9-a016-e68eaf17ab1b"
      },
      "source": [
        "import numpy as np\n",
        "\n",
        "#faculteit van 4\n",
        "np.math.factorial(4)"
      ],
      "execution_count": 2,
      "outputs": [
        {
          "output_type": "execute_result",
          "data": {
            "text/plain": [
              "24"
            ]
          },
          "metadata": {
            "tags": []
          },
          "execution_count": 2
        }
      ]
    }
  ]
}
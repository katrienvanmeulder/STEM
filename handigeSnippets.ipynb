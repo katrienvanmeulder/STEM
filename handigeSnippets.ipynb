{
  "nbformat": 4,
  "nbformat_minor": 0,
  "metadata": {
    "colab": {
      "name": "handigeSnippets.ipynb",
      "provenance": [],
      "collapsed_sections": [],
      "authorship_tag": "ABX9TyPpNgdyNlz6KY/xKMCtUK+K",
      "include_colab_link": true
    },
    "kernelspec": {
      "name": "python3",
      "display_name": "Python 3"
    }
  },
  "cells": [
    {
      "cell_type": "markdown",
      "metadata": {
        "id": "view-in-github",
        "colab_type": "text"
      },
      "source": [
        "<a href=\"https://colab.research.google.com/github/katrienvanmeulder/STEM/blob/master/handigeSnippets.ipynb\" target=\"_parent\"><img src=\"https://colab.research.google.com/assets/colab-badge.svg\" alt=\"Open In Colab\"/></a>"
      ]
    },
    {
      "cell_type": "markdown",
      "metadata": {
        "id": "DF7UUVJzy4D6",
        "colab_type": "text"
      },
      "source": [
        "# List +  loop through list\n",
        "\n",
        "\n",
        "\n",
        "---\n",
        "\n",
        "\n",
        "---\n",
        "\n",
        "\n",
        "\n"
      ]
    },
    {
      "cell_type": "code",
      "metadata": {
        "id": "tVaQAsImy-Jr",
        "colab_type": "code",
        "colab": {
          "base_uri": "https://localhost:8080/",
          "height": 323
        },
        "outputId": "92660870-e19b-450a-b852-5caf3fdb2c2f"
      },
      "source": [
        "winkellijst = [\"fruitsap\", \"tomaten\", \"appels\", \"bananen\"]\n",
        "\n",
        "for product in winkellijst:\n",
        "  print(product)\n",
        "\n",
        "print(\"##################################\")\n",
        "\n",
        "x = [2, 7, 4, 10]\n",
        "\n",
        "for getal in x:\n",
        "  print(getal)\n",
        "\n",
        "\n",
        "print(\"##################################\")\n",
        "y = [[0,1], [3,7], [8,9]]\n",
        "\n",
        "for i in range(3):\n",
        "  for j in range(2):\n",
        "    print(y[i][j])\n",
        "\n",
        "\n",
        "# voeg een element toe aan een lijst\n",
        "x.append(6)\n",
        "print(\"##################################\")\n",
        "print(x)"
      ],
      "execution_count": 20,
      "outputs": [
        {
          "output_type": "stream",
          "text": [
            "fruitsap\n",
            "tomaten\n",
            "appels\n",
            "bananen\n",
            "##################################\n",
            "2\n",
            "7\n",
            "4\n",
            "10\n",
            "##################################\n",
            "0\n",
            "1\n",
            "3\n",
            "7\n",
            "8\n",
            "9\n",
            "##################################\n",
            "[2, 7, 4, 10, 6]\n"
          ],
          "name": "stdout"
        }
      ]
    },
    {
      "cell_type": "markdown",
      "metadata": {
        "id": "H7UwuZyKOqyV",
        "colab_type": "text"
      },
      "source": [
        "# Een conditie testen (If-Else)\n",
        "\n",
        "---\n",
        "\n",
        "\n",
        "\n",
        "---\n",
        "\n"
      ]
    },
    {
      "cell_type": "code",
      "metadata": {
        "id": "n_Tkpyk71sKE",
        "colab_type": "code",
        "colab": {
          "base_uri": "https://localhost:8080/",
          "height": 34
        },
        "outputId": "5626d4f3-5fe4-49db-bbb9-69eb0bd5053e"
      },
      "source": [
        "getal = 4\n",
        "\n",
        "if getal > 2:\n",
        "  print(\"het getal is groter dan 2\")\n",
        "elif (getal <=2) & (getal >=-5):\n",
        "  print(\"het getal ligt tussen -5 en 2\")\n",
        "else:\n",
        "  print(\"het getal is kleiner dan -5\")"
      ],
      "execution_count": null,
      "outputs": [
        {
          "output_type": "stream",
          "text": [
            "het getal is groter dan 2\n"
          ],
          "name": "stdout"
        }
      ]
    },
    {
      "cell_type": "markdown",
      "metadata": {
        "id": "niyTbdFZOh5-",
        "colab_type": "text"
      },
      "source": [
        "# For loop\n",
        "\n",
        "\n",
        "\n",
        "---\n",
        "\n",
        "\n",
        "\n",
        "---\n",
        "\n",
        "\n"
      ]
    },
    {
      "cell_type": "code",
      "metadata": {
        "id": "OsRUUkAc3OKE",
        "colab_type": "code",
        "colab": {
          "base_uri": "https://localhost:8080/",
          "height": 102
        },
        "outputId": "dd85a1f6-f5fc-4240-d33a-ede05ba6557d"
      },
      "source": [
        "for i in range(1, 6):\n",
        "  print (\"het kwadraat van \", i, \" is gelijk aan \", i**2)"
      ],
      "execution_count": null,
      "outputs": [
        {
          "output_type": "stream",
          "text": [
            "het kwadraat van  1  is gelijk aan  1\n",
            "het kwadraat van  2  is gelijk aan  4\n",
            "het kwadraat van  3  is gelijk aan  9\n",
            "het kwadraat van  4  is gelijk aan  16\n",
            "het kwadraat van  5  is gelijk aan  25\n"
          ],
          "name": "stdout"
        }
      ]
    },
    {
      "cell_type": "markdown",
      "metadata": {
        "id": "G_JFbgRWOdta",
        "colab_type": "text"
      },
      "source": [
        "# While loop\n",
        "\n",
        "\n",
        "\n",
        "---\n",
        "\n",
        "\n",
        "\n",
        "---\n",
        "\n",
        "\n",
        "\n"
      ]
    },
    {
      "cell_type": "code",
      "metadata": {
        "id": "pxmyWPJaOcAx",
        "colab_type": "code",
        "colab": {
          "base_uri": "https://localhost:8080/",
          "height": 357
        },
        "outputId": "64233418-bc05-435f-a137-ff4b3229e914"
      },
      "source": [
        "k = 0\n",
        "while k < 1000:\n",
        "  k = k+50\n",
        "  print(k)\n"
      ],
      "execution_count": 18,
      "outputs": [
        {
          "output_type": "stream",
          "text": [
            "50\n",
            "100\n",
            "150\n",
            "200\n",
            "250\n",
            "300\n",
            "350\n",
            "400\n",
            "450\n",
            "500\n",
            "550\n",
            "600\n",
            "650\n",
            "700\n",
            "750\n",
            "800\n",
            "850\n",
            "900\n",
            "950\n",
            "1000\n"
          ],
          "name": "stdout"
        }
      ]
    },
    {
      "cell_type": "markdown",
      "metadata": {
        "id": "2eHcc-N2Fa4B",
        "colab_type": "text"
      },
      "source": [
        "# Een grafiek maken\n",
        "\n",
        "\n",
        "\n",
        "---\n",
        "\n",
        "\n",
        "\n",
        "---\n",
        "\n",
        "\n",
        "\n",
        "\n"
      ]
    },
    {
      "cell_type": "code",
      "metadata": {
        "id": "RaHN_jAyFUR3",
        "colab_type": "code",
        "colab": {
          "base_uri": "https://localhost:8080/",
          "height": 483
        },
        "outputId": "5cf81926-d3ff-4bfa-d201-29d18a1b3d7c"
      },
      "source": [
        "import matplotlib.pyplot as plt\n",
        "import numpy as np\n",
        "\n",
        "fig, ax = plt.subplots(figsize=(12,8))\n",
        "\n",
        "x = np.linspace(-4,4, 10)\n",
        "\n",
        "ax.plot(x, x**2, 'ro')\n",
        "ax.axhline(y=3)\n",
        "ax.axvline(x=0)\n",
        "ax.grid(True)"
      ],
      "execution_count": null,
      "outputs": [
        {
          "output_type": "display_data",
          "data": {
            "image/png": "[encoded data removed]",
            "text/plain": [
              "<Figure size 864x576 with 1 Axes>"
            ]
          },
          "metadata": {
            "tags": [],
            "needs_background": "light"
          }
        }
      ]
    },
    {
      "cell_type": "code",
      "metadata": {
        "id": "1BhrXhFqMf5C",
        "colab_type": "code",
        "colab": {}
      },
      "source": [
        ""
      ],
      "execution_count": null,
      "outputs": []
    }
  ]
}
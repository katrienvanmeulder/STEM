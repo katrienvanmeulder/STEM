{
  "nbformat": 4,
  "nbformat_minor": 0,
  "metadata": {
    "colab": {
      "name": "20200903_interest.ipynb",
      "provenance": [],
      "collapsed_sections": [],
      "authorship_tag": "ABX9TyMC9P7pYprdwJe5UtkvRwAi",
      "include_colab_link": true
    },
    "kernelspec": {
      "name": "python3",
      "display_name": "Python 3"
    }
  },
  "cells": [
    {
      "cell_type": "markdown",
      "metadata": {
        "id": "view-in-github",
        "colab_type": "text"
      },
      "source": [
        "<a href=\"https://colab.research.google.com/github/katrienvanmeulder/STEM/blob/master/20200903_interest.ipynb\" target=\"_parent\"><img src=\"https://colab.research.google.com/assets/colab-badge.svg\" alt=\"Open In Colab\"/></a>"
      ]
    },
    {
      "cell_type": "markdown",
      "metadata": {
        "id": "Mf74jQnRDgi8",
        "colab_type": "text"
      },
      "source": [
        "# Opgave 1\n",
        "\n",
        "\n",
        "\n",
        "*   Stel dat je 5 procent per jaar krijgt\n",
        "*   Startkapitaal is 1000 euro\n",
        "*  Hoe lang duurt het vooraleer je miljonair bent\n",
        "* Los dit in eerste instantie op met een for loop\n",
        "* Los dit op mbv een while loop \n",
        "\n"
      ]
    },
    {
      "cell_type": "code",
      "metadata": {
        "id": "OIjQt01jAnR1",
        "colab_type": "code",
        "colab": {
          "base_uri": "https://localhost:8080/",
          "height": 102
        },
        "outputId": "c4c9f2e5-b7c7-426d-9fa1-5bba802e5f05"
      },
      "source": [
        "K = 1000\n",
        "interest = 5\n",
        "groeifactor = 1 + interest/100\n",
        "\n",
        "for i in range(5):\n",
        "  print(\"na \", i, \" jaar is het kapitaal \", K)\n",
        "  K = K*groeifactor\n"
      ],
      "execution_count": 3,
      "outputs": [
        {
          "output_type": "stream",
          "text": [
            "na  0  jaar is het kapitaal  1000\n",
            "na  1  jaar is het kapitaal  1050.0\n",
            "na  2  jaar is het kapitaal  1102.5\n",
            "na  3  jaar is het kapitaal  1157.625\n",
            "na  4  jaar is het kapitaal  1215.5062500000001\n"
          ],
          "name": "stdout"
        }
      ]
    },
    {
      "cell_type": "markdown",
      "metadata": {
        "id": "zCeL5N0EESWl",
        "colab_type": "text"
      },
      "source": [
        "# Opgave 2\n",
        "\n",
        "* Welk van 3 opties is het beste (illustreer aan de hand van een grafiek)\n",
        "  * gedurende 10 jaar rente van 3 percent per jaar, daarna 7 percent gedurende 10 jaar, \n",
        "  * ofwel voor 10 jaar 7 percent, daarna 3 percent gedurende 10 jaar\n",
        "  * laatste optie is 5 percent gedurende 20 jaar\n"
      ]
    },
    {
      "cell_type": "code",
      "metadata": {
        "id": "0DoOz-5AED-T",
        "colab_type": "code",
        "colab": {}
      },
      "source": [
        ""
      ],
      "execution_count": null,
      "outputs": []
    }
  ]
}